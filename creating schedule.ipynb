{
 "cells": [
  {
   "cell_type": "markdown",
   "metadata": {},
   "source": [
    "IMPORTS"
   ]
  },
  {
   "cell_type": "code",
   "execution_count": null,
   "metadata": {
    "collapsed": true
   },
   "outputs": [],
   "source": [
    "import os\n",
    "import sys\n",
    "import pandas as pd\n",
    "import numpy as np"
   ]
  },
  {
   "cell_type": "code",
   "execution_count": null,
   "metadata": {
    "collapsed": false
   },
   "outputs": [],
   "source": [
    "from prog import scheduler as sch"
   ]
  },
  {
   "cell_type": "code",
   "execution_count": null,
   "metadata": {
    "collapsed": false
   },
   "outputs": [],
   "source": [
    "# save current working directory as homey\n",
    "# homey = os.path.abspath(os.path.dirname(__file__))\n",
    "homey = os.getcwd() # works in jupyter notebook"
   ]
  },
  {
   "cell_type": "code",
   "execution_count": null,
   "metadata": {
    "collapsed": true
   },
   "outputs": [],
   "source": [
    "# set directory paths\n",
    "dataPath = os.path.join(homey, 'data')\n",
    "progPath = os.path.join(homey, 'prog')\n",
    "simPath = os.path.join(homey, 'FB_Sim')\n",
    "forcPath = os.path.join(simPath, 'ForecastRedoux')\n",
    "# this should probably be moved out of the simulator and into the main sql area, where that ends up\n",
    "sqlPath = os.path.join(forcPath, 'SQL')"
   ]
  },
  {
   "cell_type": "code",
   "execution_count": null,
   "metadata": {
    "collapsed": true
   },
   "outputs": [],
   "source": [
    "# set paths to excel files\n",
    "forecastFilename = os.path.join(dataPath, 'RegularForecast.xlsx')\n",
    "mfgCentersFilename = os.path.join(dataPath, 'MfgCenters.xlsx')\n",
    "moFilename = os.path.join(dataPath, 'MOs.xlsx')\n",
    "laborAvailFilename = os.path.join(dataPath, 'LaborAvailablePerDay.xlsx')\n",
    "leadFilename = os.path.join(dataPath, 'LeadTimes.xlsx')\n",
    "finalSchedFilename = os.path.join(homey, 'finalSchedule.xlsx')"
   ]
  },
  {
   "cell_type": "markdown",
   "metadata": {},
   "source": [
    "QUERIES"
   ]
  },
  {
   "cell_type": "code",
   "execution_count": null,
   "metadata": {
    "collapsed": true
   },
   "outputs": [],
   "source": [
    "sys.path.insert(0, forcPath)"
   ]
  },
  {
   "cell_type": "code",
   "execution_count": null,
   "metadata": {
    "collapsed": false
   },
   "outputs": [],
   "source": [
    "import ForecastMain as fm\n",
    "import ForecastAPI as fa"
   ]
  },
  {
   "cell_type": "code",
   "execution_count": null,
   "metadata": {
    "collapsed": false
   },
   "outputs": [],
   "source": [
    "# pull the usual FB_Sim queries\n",
    "# fa.run_queries(queryPath=sqlPath, dataPath=dataPath)"
   ]
  },
  {
   "cell_type": "markdown",
   "metadata": {
    "collapsed": true
   },
   "source": [
    "GET DATA"
   ]
  },
  {
   "cell_type": "code",
   "execution_count": null,
   "metadata": {
    "collapsed": false
   },
   "outputs": [],
   "source": [
    "# save mfgCenters as df, includes MFG Center assignments and Setup/labor time estimates\n",
    "mfgCenters = pd.read_excel(mfgCentersFilename, header=0)"
   ]
  },
  {
   "cell_type": "code",
   "execution_count": null,
   "metadata": {
    "collapsed": true
   },
   "outputs": [],
   "source": [
    "# save current Manufacture Orders\n",
    "modf = pd.read_excel(moFilename, header=0)"
   ]
  },
  {
   "cell_type": "code",
   "execution_count": null,
   "metadata": {
    "collapsed": true
   },
   "outputs": [],
   "source": [
    "# save lead time estimates\n",
    "leadTimes = pd.read_excel(leadFilename, header=0)"
   ]
  },
  {
   "cell_type": "code",
   "execution_count": null,
   "metadata": {
    "collapsed": false
   },
   "outputs": [],
   "source": [
    "# sort by line priority before choosing which lead time to go with\n",
    "leadTimes.sort_values(['PART','DefaultVendor','LastDate'], ascending=[True,False,False], inplace=True)\n",
    "leadTimes.drop_duplicates('PART', keep='first', inplace=True)"
   ]
  },
  {
   "cell_type": "code",
   "execution_count": null,
   "metadata": {
    "collapsed": false
   },
   "outputs": [],
   "source": [
    "# use the Real Lead Time first and if it's not there take the vendor lead.\n",
    "leadTimes['LeadTimes'] = np.nan\n",
    "x=0\n",
    "while x < len(leadTimes):\n",
    "    if leadTimes['RealLeadTime'].iat[x] > 0:\n",
    "        leadTimes['LeadTimes'].iat[x] = leadTimes['RealLeadTime'].iat[x]\n",
    "    elif leadTimes['VendorLeadTime'].iat[x] > 0:\n",
    "        leadTimes['LeadTimes'].iat[x] = leadTimes['VendorLeadTime'].iat[x]\n",
    "    x+=1"
   ]
  },
  {
   "cell_type": "code",
   "execution_count": null,
   "metadata": {
    "collapsed": false
   },
   "outputs": [],
   "source": [
    "leadTimes = leadTimes[['PART','Make/Buy','AvgCost','LeadTimes']].copy()"
   ]
  },
  {
   "cell_type": "code",
   "execution_count": null,
   "metadata": {
    "collapsed": false,
    "scrolled": true
   },
   "outputs": [],
   "source": [
    "### this is a bandaid, I think there will be problems with NAN values later.  Need to figure out eventually.\n",
    "leadTimes.fillna(10, inplace=True)"
   ]
  },
  {
   "cell_type": "code",
   "execution_count": null,
   "metadata": {
    "collapsed": true
   },
   "outputs": [],
   "source": [
    "# this is a placeholder for a calculation of start to finish time for a build.\n",
    "# just using it for earliest schedule date right now.\n",
    "orderRunTime = 7"
   ]
  },
  {
   "cell_type": "markdown",
   "metadata": {
    "collapsed": false
   },
   "source": [
    "MAKE DATE LIST"
   ]
  },
  {
   "cell_type": "code",
   "execution_count": null,
   "metadata": {
    "collapsed": true
   },
   "outputs": [],
   "source": [
    "# creating a common timestamp, if not added they can all generate their own seconds off from each other\n",
    "todayTimestamp = pd.Timestamp.today()"
   ]
  },
  {
   "cell_type": "code",
   "execution_count": null,
   "metadata": {
    "collapsed": false
   },
   "outputs": [],
   "source": [
    "# make a date list with labor availability\n",
    "dateList = sch.create_date_list(todayTimestamp=todayTimestamp, dailyLabor=11)"
   ]
  },
  {
   "cell_type": "code",
   "execution_count": null,
   "metadata": {
    "collapsed": true
   },
   "outputs": [],
   "source": [
    "## labor type testing\n",
    "dateListProLine = sch.create_date_list(todayTimestamp=todayTimestamp, dailyLabor=40)\n",
    "dateListRacking = sch.create_date_list(todayTimestamp=todayTimestamp, dailyLabor=12)\n",
    "dateListPCB = sch.create_date_list(todayTimestamp=todayTimestamp, dailyLabor=24)\n",
    "dateListLabels = sch.create_date_list(todayTimestamp=todayTimestamp, dailyLabor=7)\n",
    "dateListKitting = sch.create_date_list(todayTimestamp=todayTimestamp, dailyLabor=12)\n",
    "dateListShipping = sch.create_date_list(todayTimestamp=todayTimestamp, dailyLabor=6)\n",
    "dateListCableAssy = sch.create_date_list(todayTimestamp=todayTimestamp, dailyLabor=6)"
   ]
  },
  {
   "cell_type": "markdown",
   "metadata": {},
   "source": [
    "CREATE IDEAL SCHEDULE"
   ]
  },
  {
   "cell_type": "code",
   "execution_count": null,
   "metadata": {
    "collapsed": true
   },
   "outputs": [],
   "source": [
    "# prep mo list with mfg centers and labor estimates\n",
    "preppedMOdf = sch.pre_schedule_prep(modf=modf.copy(), mfgCenters=mfgCenters.copy())"
   ]
  },
  {
   "cell_type": "code",
   "execution_count": null,
   "metadata": {
    "collapsed": true
   },
   "outputs": [],
   "source": [
    "# add an empty datetime column\n",
    "#   - this allows the use of the same scheduling formula throughout the script\n",
    "preppedMOdf['EarliestScheduleDate'] = np.nan\n",
    "preppedMOdf['EarliestScheduleDate'] = pd.to_datetime(preppedMOdf['EarliestScheduleDate'])"
   ]
  },
  {
   "cell_type": "markdown",
   "metadata": {
    "collapsed": false
   },
   "source": [
    "# run the auto schedule to get an ideal schedule by priority\n",
    "moLinesLabor = sch.sched_with_date_limits(orderPriority=preppedMOdf.copy(), dateList=dateList.copy())"
   ]
  },
  {
   "cell_type": "code",
   "execution_count": null,
   "metadata": {
    "collapsed": false
   },
   "outputs": [],
   "source": [
    "## labor type testing\n",
    "moLinesLaborProLine = sch.run_auto_schedule(moLinesLabor=preppedMOdf[preppedMOdf['Mfg Center'] == 'Pro Line'].copy(), dateList=dateListProLine.copy())\n",
    "moLinesLaborRacking = sch.run_auto_schedule(moLinesLabor=preppedMOdf[preppedMOdf['Mfg Center'] == 'Racking'].copy(), dateList=dateListRacking.copy())\n",
    "moLinesLaborPCB = sch.run_auto_schedule(moLinesLabor=preppedMOdf[preppedMOdf['Mfg Center'] == 'PCB'].copy(), dateList=dateListPCB.copy())\n",
    "moLinesLaborLabels = sch.run_auto_schedule(moLinesLabor=preppedMOdf[preppedMOdf['Mfg Center'] == 'Labels'].copy(), dateList=dateListLabels.copy())\n",
    "moLinesLaborKitting = sch.run_auto_schedule(moLinesLabor=preppedMOdf[preppedMOdf['Mfg Center'] == 'Kitting'].copy(), dateList=dateListKitting.copy())\n",
    "moLinesLaborShipping = sch.run_auto_schedule(moLinesLabor=preppedMOdf[preppedMOdf['Mfg Center'] == 'Shipping'].copy(), dateList=dateListShipping.copy())\n",
    "moLinesLaborCableAssy = sch.run_auto_schedule(moLinesLabor=preppedMOdf[preppedMOdf['Mfg Center'] == 'Cable Assembly'].copy(), dateList=dateListCableAssy.copy())"
   ]
  },
  {
   "cell_type": "code",
   "execution_count": null,
   "metadata": {
    "collapsed": false
   },
   "outputs": [],
   "source": [
    "## labor type testing\n",
    "moLinesLaborProLine.drop_duplicates('ORDER', keep='last', inplace=True)\n",
    "moLinesLaborRacking.drop_duplicates('ORDER', keep='last', inplace=True)\n",
    "moLinesLaborPCB.drop_duplicates('ORDER', keep='last', inplace=True)\n",
    "moLinesLaborLabels.drop_duplicates('ORDER', keep='last', inplace=True)\n",
    "moLinesLaborKitting.drop_duplicates('ORDER', keep='last', inplace=True)\n",
    "moLinesLaborShipping.drop_duplicates('ORDER', keep='last', inplace=True)\n",
    "moLinesLaborCableAssy.drop_duplicates('ORDER', keep='last', inplace=True)"
   ]
  },
  {
   "cell_type": "code",
   "execution_count": null,
   "metadata": {
    "collapsed": true
   },
   "outputs": [],
   "source": [
    "## labor type testing\n",
    "idealSchedule = pd.concat([moLinesLaborProLine.copy(),\n",
    "\t\t   \t\t\t\t   moLinesLaborRacking.copy(),\n",
    "\t\t   \t\t\t\t   moLinesLaborPCB.copy(),\n",
    "\t\t   \t\t\t\t   moLinesLaborLabels.copy(),\n",
    "\t\t   \t\t\t\t   moLinesLaborKitting.copy(),\n",
    "\t\t   \t\t\t\t   moLinesLaborShipping.copy(),\n",
    "\t\t   \t\t\t\t   moLinesLaborCableAssy.copy()])"
   ]
  },
  {
   "cell_type": "markdown",
   "metadata": {
    "collapsed": false
   },
   "source": [
    "# use the last scheduled FG in an order to save an ideal schedule\n",
    "idealSchedule = moLinesLabor.drop_duplicates('ORDER', keep='last')"
   ]
  },
  {
   "cell_type": "markdown",
   "metadata": {},
   "source": [
    "RUN THE SIM"
   ]
  },
  {
   "cell_type": "code",
   "execution_count": null,
   "metadata": {
    "collapsed": false
   },
   "outputs": [],
   "source": [
    "# replace the schedule dates on the MO order lines with the new dates for those orders\n",
    "newMOdf = pd.merge(modf.copy(), idealSchedule[['ORDER', 'NewDate']].copy(), how='left', on='ORDER')\n",
    "newMOdf['DATESCHEDULED'] = newMOdf['NewDate'].copy()\n",
    "newMOdf.drop(labels='NewDate', axis=1, inplace=True)"
   ]
  },
  {
   "cell_type": "code",
   "execution_count": null,
   "metadata": {
    "collapsed": false,
    "scrolled": true
   },
   "outputs": [],
   "source": [
    "# run the new MO schedule through the FB_Sim to find phantom orders\n",
    "orderTimeline = fm.run_normal_forecast_tiers_v3(dataPath=dataPath, includeSO=False, subMO=newMOdf.copy())"
   ]
  },
  {
   "cell_type": "markdown",
   "metadata": {
    "collapsed": true
   },
   "source": [
    "GET SCHEDULE LIMITS"
   ]
  },
  {
   "cell_type": "code",
   "execution_count": null,
   "metadata": {
    "collapsed": false
   },
   "outputs": [],
   "source": [
    "orderLeads = sch.get_earliest_leads(orderTimeline=orderTimeline.copy(),\n",
    "                                    leadTimes=leadTimes.copy(),\n",
    "                                    dateList=dateList.copy(),\n",
    "                                    orderRunTime=orderRunTime)"
   ]
  },
  {
   "cell_type": "markdown",
   "metadata": {},
   "source": [
    "ANALYZE SCHEDULE"
   ]
  },
  {
   "cell_type": "markdown",
   "metadata": {
    "collapsed": false
   },
   "source": [
    "# analyze and adjust the schedule\n",
    "newMOdf = sch.analyze_schedule(newMOdf=newMOdf.copy(),\n",
    "                               orderLeads=orderLeads.copy(),\n",
    "                               modf=modf.copy(),\n",
    "                               mfgCenters=mfgCenters.copy(),\n",
    "                               dateList=dateList.copy(),\n",
    "                               orderRunTime=orderRunTime,\n",
    "                               leadTimes=leadTimes.copy())"
   ]
  },
  {
   "cell_type": "code",
   "execution_count": null,
   "metadata": {
    "collapsed": true
   },
   "outputs": [],
   "source": [
    "##labor type testing\n",
    "finalSchedule = sch.analyze_schedule_labor_types(newMOdf=newMOdf.copy(),\n",
    "                                                 orderLeads=orderLeads.copy(),\n",
    "                                                 modf=modf.copy(),\n",
    "                                                 mfgCenters=mfgCenters.copy(),\n",
    "                                                 dateList=dateList.copy(),\n",
    "                                                 orderRunTime=orderRunTime,\n",
    "                                                 leadTimes=leadTimes.copy(),\n",
    "                                                 dateListProLine=dateListProLine.copy(),\n",
    "                                                 dateListRacking=dateListRacking.copy(),\n",
    "                                                 dateListPCB=dateListPCB.copy(),\n",
    "                                                 dateListLabels=dateListLabels.copy(),\n",
    "                                                 dateListKitting=dateListKitting.copy(),\n",
    "                                                 dateListShipping=dateListShipping.copy(),\n",
    "                                                 dateListCableAssy=dateListCableAssy.copy())"
   ]
  }
 ],
 "metadata": {
  "anaconda-cloud": {},
  "kernelspec": {
   "display_name": "Python [Root]",
   "language": "python",
   "name": "Python [Root]"
  },
  "language_info": {
   "codemirror_mode": {
    "name": "ipython",
    "version": 3
   },
   "file_extension": ".py",
   "mimetype": "text/x-python",
   "name": "python",
   "nbconvert_exporter": "python",
   "pygments_lexer": "ipython3",
   "version": "3.5.2"
  }
 },
 "nbformat": 4,
 "nbformat_minor": 0
}
