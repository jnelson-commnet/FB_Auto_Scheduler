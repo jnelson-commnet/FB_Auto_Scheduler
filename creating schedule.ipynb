{
 "cells": [
  {
   "cell_type": "code",
   "execution_count": null,
   "metadata": {
    "collapsed": true
   },
   "outputs": [],
   "source": [
    "import os\n",
    "import sys\n",
    "import pandas as pd\n",
    "import numpy as np"
   ]
  },
  {
   "cell_type": "code",
   "execution_count": null,
   "metadata": {
    "collapsed": true
   },
   "outputs": [],
   "source": [
    "from prog import scheduler as sch"
   ]
  },
  {
   "cell_type": "code",
   "execution_count": null,
   "metadata": {
    "collapsed": false
   },
   "outputs": [],
   "source": [
    "# save current working directory as homey\n",
    "# homey = os.path.abspath(os.path.dirname(__file__))\n",
    "homey = os.getcwd() # works in jupyter notebook"
   ]
  },
  {
   "cell_type": "code",
   "execution_count": null,
   "metadata": {
    "collapsed": true
   },
   "outputs": [],
   "source": [
    "# set directory paths\n",
    "dataPath = os.path.join(homey, 'data')\n",
    "progPath = os.path.join(homey, 'prog')\n",
    "simPath = os.path.join(homey, 'FB_Sim')\n",
    "forcPath = os.path.join(simPath, 'ForecastRedoux')\n",
    "# this should probably be moved out of the simulator and into the main sql area, where that ends up\n",
    "sqlPath = os.path.join(forcPath, 'SQL')"
   ]
  },
  {
   "cell_type": "code",
   "execution_count": null,
   "metadata": {
    "collapsed": false
   },
   "outputs": [],
   "source": [
    "# set paths to excel files\n",
    "forecastFilename = os.path.join(dataPath, 'RegularForecast.xlsx')\n",
    "mfgCentersFilename = os.path.join(dataPath, 'MfgCenters.xlsx')\n",
    "moFilename = os.path.join(dataPath, 'MOs.xlsx')\n",
    "laborAvailFilename = os.path.join(dataPath, 'LaborAvailablePerDay.xlsx')\n",
    "leadFilename = os.path.join(dataPath, 'LeadTimes.xlsx')"
   ]
  },
  {
   "cell_type": "code",
   "execution_count": null,
   "metadata": {
    "collapsed": true
   },
   "outputs": [],
   "source": [
    "sys.path.insert(0, forcPath)"
   ]
  },
  {
   "cell_type": "code",
   "execution_count": null,
   "metadata": {
    "collapsed": false
   },
   "outputs": [],
   "source": [
    "import ForecastMain as fm\n",
    "import ForecastAPI as fa"
   ]
  },
  {
   "cell_type": "code",
   "execution_count": null,
   "metadata": {
    "collapsed": false
   },
   "outputs": [],
   "source": [
    "# pull the usual FB_Sim queries\n",
    "# fa.run_queries(queryPath=sqlPath, dataPath=dataPath)"
   ]
  },
  {
   "cell_type": "code",
   "execution_count": null,
   "metadata": {
    "collapsed": true
   },
   "outputs": [],
   "source": []
  },
  {
   "cell_type": "code",
   "execution_count": null,
   "metadata": {
    "collapsed": false
   },
   "outputs": [],
   "source": [
    "# save mfgCenters as df, includes MFG Center assignments and Setup/labor time estimates\n",
    "mfgCenters = pd.read_excel(mfgCentersFilename, header=0)"
   ]
  },
  {
   "cell_type": "code",
   "execution_count": null,
   "metadata": {
    "collapsed": true
   },
   "outputs": [],
   "source": [
    "# save current Manufacture Orders\n",
    "modf = pd.read_excel(moFilename, header=0)"
   ]
  },
  {
   "cell_type": "code",
   "execution_count": null,
   "metadata": {
    "collapsed": true
   },
   "outputs": [],
   "source": [
    "# save lead time estimates\n",
    "leadTimes = pd.read_excel(leadFilename, header=0)"
   ]
  },
  {
   "cell_type": "code",
   "execution_count": null,
   "metadata": {
    "collapsed": true
   },
   "outputs": [],
   "source": [
    "# this is a placeholder for a calculation of start to finish time for a build.\n",
    "# just using it for earliest schedule date right now.\n",
    "orderRunTime = 7"
   ]
  },
  {
   "cell_type": "code",
   "execution_count": null,
   "metadata": {
    "collapsed": false
   },
   "outputs": [],
   "source": []
  },
  {
   "cell_type": "code",
   "execution_count": null,
   "metadata": {
    "collapsed": false
   },
   "outputs": [],
   "source": [
    "# make a date list with labor availability\n",
    "dateList = sch.create_date_list(dailyLabor=11)"
   ]
  },
  {
   "cell_type": "code",
   "execution_count": null,
   "metadata": {
    "collapsed": false
   },
   "outputs": [],
   "source": [
    "# run the auto schedule to get an ideal schedule by priority\n",
    "moLinesLabor = sch.run_auto_schedule(modf=modf, mfgCenters=mfgCenters, dateList=dateList)"
   ]
  },
  {
   "cell_type": "code",
   "execution_count": null,
   "metadata": {
    "collapsed": true
   },
   "outputs": [],
   "source": []
  },
  {
   "cell_type": "code",
   "execution_count": null,
   "metadata": {
    "collapsed": true
   },
   "outputs": [],
   "source": []
  },
  {
   "cell_type": "code",
   "execution_count": null,
   "metadata": {
    "collapsed": false
   },
   "outputs": [],
   "source": [
    "# use the last scheduled FG in an order to save an ideal schedule\n",
    "idealSchedule = moLinesLabor.drop_duplicates('ORDER', keep='last')"
   ]
  },
  {
   "cell_type": "code",
   "execution_count": null,
   "metadata": {
    "collapsed": false
   },
   "outputs": [],
   "source": [
    "# replace the schedule dates on the MO order lines with the new dates for those orders\n",
    "newMOdf = pd.merge(modf.copy(), idealSchedule[['ORDER', 'NewDate']].copy(), how='left', on='ORDER')\n",
    "newMOdf['DATESCHEDULED'] = newMOdf['NewDate'].copy()\n",
    "newMOdf.drop(labels='NewDate', axis=1, inplace=True)"
   ]
  },
  {
   "cell_type": "code",
   "execution_count": null,
   "metadata": {
    "collapsed": true
   },
   "outputs": [],
   "source": []
  },
  {
   "cell_type": "code",
   "execution_count": null,
   "metadata": {
    "collapsed": true
   },
   "outputs": [],
   "source": []
  },
  {
   "cell_type": "code",
   "execution_count": null,
   "metadata": {
    "collapsed": false,
    "scrolled": true
   },
   "outputs": [],
   "source": [
    "# run the new MO schedule through the FB_Sim to find phantom orders\n",
    "orderTimeline = fm.run_normal_forecast_tiers_v3(dataPath=dataPath, includeSO=False, subMO=newMOdf.copy())"
   ]
  },
  {
   "cell_type": "code",
   "execution_count": null,
   "metadata": {
    "collapsed": true
   },
   "outputs": [],
   "source": []
  },
  {
   "cell_type": "code",
   "execution_count": null,
   "metadata": {
    "collapsed": true
   },
   "outputs": [],
   "source": [
    "# get a list of phantom orders and their grandparent orders\n",
    "### Currently phantom orders are placed a day before the order with the shortage will finish.  So\n",
    "###     if the lead time field is used later, this could throw the phantom schedule dates.  I'll\n",
    "###     try to avoid this by getting back to the shortage date, but it might become redundant later.\n",
    "phantoms = orderTimeline[orderTimeline['ITEM'] == 'Phantom'].copy()\n",
    "buyPhantoms = phantoms[phantoms['Make/Buy'] == 'Buy'].copy()\n"
   ]
  },
  {
   "cell_type": "code",
   "execution_count": null,
   "metadata": {
    "collapsed": false
   },
   "outputs": [],
   "source": [
    "# add the lead times to each part\n",
    "leadPhantoms = pd.merge(buyPhantoms.copy(), leadTimes[['PART','LeadTimes']].copy(), how='left', on='PART')"
   ]
  },
  {
   "cell_type": "code",
   "execution_count": null,
   "metadata": {
    "collapsed": true
   },
   "outputs": [],
   "source": [
    "# simplify the dataFrame - not necessary\n",
    "orderLeads = leadPhantoms[['GRANDPARENT','LeadTimes']].copy()"
   ]
  },
  {
   "cell_type": "code",
   "execution_count": null,
   "metadata": {
    "collapsed": false
   },
   "outputs": [],
   "source": [
    "# sort by grandparent and then lead time to make sure the highest lead time comes first\n",
    "orderLeads.sort_values(by=['GRANDPARENT','LeadTimes'], ascending=[True, False], inplace=True)"
   ]
  },
  {
   "cell_type": "code",
   "execution_count": null,
   "metadata": {
    "collapsed": false
   },
   "outputs": [],
   "source": [
    "# drop duplicate grandparents leaving the longest lead as the only one remaining\n",
    "orderLeads.drop_duplicates('GRANDPARENT', keep='first', inplace=True)"
   ]
  },
  {
   "cell_type": "code",
   "execution_count": null,
   "metadata": {
    "collapsed": true
   },
   "outputs": [],
   "source": [
    "# rename column for easy merge\n",
    "orderLeads.rename(columns={'GRANDPARENT':'ORDER'}, inplace=True)"
   ]
  },
  {
   "cell_type": "code",
   "execution_count": null,
   "metadata": {
    "collapsed": false,
    "scrolled": true
   },
   "outputs": [],
   "source": [
    "# adjust the lead time to account for time to place/receive order (2 days) and expected run time for the build\n",
    "# replace orderRunTime with a calculation of labor needed against average labor available per day\n",
    "orderLeads['AdjustedLeadTimes'] = orderLeads['LeadTimes'] + 2 + orderRunTime"
   ]
  },
  {
   "cell_type": "code",
   "execution_count": null,
   "metadata": {
    "collapsed": false,
    "scrolled": true
   },
   "outputs": [],
   "source": [
    "# Add comparative dates from dateList\n",
    "orderLeads = pd.merge(orderLeads.copy(), dateList[['DaysFromStart','StartDate']].copy(), how='left', left_on='AdjustedLeadTimes', right_on='DaysFromStart')"
   ]
  },
  {
   "cell_type": "code",
   "execution_count": null,
   "metadata": {
    "collapsed": false
   },
   "outputs": [],
   "source": [
    "# rename the start date column to earliest schedule date\n",
    "### Note: this is info that will need to be unchanged in future loops.  The earliest schedule date should not move in.\n",
    "orderLeads.rename(columns={'StartDate':'EarliestScheduleDate'}, inplace=True)"
   ]
  },
  {
   "cell_type": "code",
   "execution_count": null,
   "metadata": {
    "collapsed": false,
    "scrolled": true
   },
   "outputs": [],
   "source": [
    "# save a new copy of the modf with longest leads added\n",
    "leadMOdf = pd.merge(modf.copy(), orderLeads.copy(), how='left', on='ORDER')"
   ]
  },
  {
   "cell_type": "code",
   "execution_count": null,
   "metadata": {
    "collapsed": false
   },
   "outputs": [],
   "source": [
    "### I don't think this is necessary since I'm dropping columns immediately after\n",
    "# fill missing leads with 0 since that is effectively what is required\n",
    "# leadMOdf.fillna(0, inplace=True)"
   ]
  },
  {
   "cell_type": "code",
   "execution_count": null,
   "metadata": {
    "collapsed": false,
    "scrolled": true
   },
   "outputs": [],
   "source": [
    "# drop excess columns\n",
    "leadMOdf.drop(['LeadTimes','AdjustedLeadTimes','DaysFromStart'], axis=1, inplace=True)"
   ]
  },
  {
   "cell_type": "code",
   "execution_count": null,
   "metadata": {
    "collapsed": true
   },
   "outputs": [],
   "source": []
  },
  {
   "cell_type": "code",
   "execution_count": null,
   "metadata": {
    "collapsed": true
   },
   "outputs": [],
   "source": []
  },
  {
   "cell_type": "code",
   "execution_count": null,
   "metadata": {
    "collapsed": false
   },
   "outputs": [],
   "source": []
  },
  {
   "cell_type": "code",
   "execution_count": null,
   "metadata": {
    "collapsed": true
   },
   "outputs": [],
   "source": []
  },
  {
   "cell_type": "code",
   "execution_count": null,
   "metadata": {
    "collapsed": false,
    "scrolled": true
   },
   "outputs": [],
   "source": [
    "# dateList['StartDate'].iat[0] > dateList['StartDate'].iat[1]"
   ]
  },
  {
   "cell_type": "code",
   "execution_count": null,
   "metadata": {
    "collapsed": false
   },
   "outputs": [],
   "source": [
    "# pd.Timestamp.today() - pd.Timedelta('2 days')"
   ]
  },
  {
   "cell_type": "code",
   "execution_count": null,
   "metadata": {
    "collapsed": true
   },
   "outputs": [],
   "source": [
    "# just temporary\n",
    "leadMOdfSave = leadMOdf.copy()\n",
    "mfgCentersSave = mfgCenters.copy()\n",
    "dateListSave = dateList.copy()"
   ]
  },
  {
   "cell_type": "code",
   "execution_count": null,
   "metadata": {
    "collapsed": true
   },
   "outputs": [],
   "source": [
    "# refresh!\n",
    "leadMOdf = leadMOdfSave.copy()\n",
    "mfgCenters = mfgCentersSave.copy()\n",
    "dateList = dateListSave.copy()"
   ]
  },
  {
   "cell_type": "code",
   "execution_count": null,
   "metadata": {
    "collapsed": true
   },
   "outputs": [],
   "source": [
    "# getting a list of Finished Goods on MO's\n",
    "moFgOnly = leadMOdf[leadMOdf['ORDERTYPE'] == 'Finished Good'].copy()\n",
    "# sorting by date so the earliest scheduled can be the highest priority\n",
    "moFgOnly.sort_values('DATESCHEDULED', inplace=True)\n",
    "# renaming part column to match MO header\n",
    "mfgCenters.rename(columns={'Part':'PART'}, inplace=True)\n",
    "# adding centers and labor estimates to MO lines\n",
    "moLinesLabor = pd.merge(moFgOnly.copy(), mfgCenters.copy(), how='left', on='PART')\n",
    "# save missing info for later.  Will want user to see what items were missed for lack of data.\n",
    "missingCenters = moLinesLabor[moLinesLabor['Mfg Center'].isnull()].copy()\n",
    "missingSetup = moLinesLabor[moLinesLabor['Setup'].isnull()].copy()\n",
    "missingLabor = moLinesLabor[moLinesLabor['LaborPer'].isnull()].copy()"
   ]
  },
  {
   "cell_type": "code",
   "execution_count": null,
   "metadata": {
    "collapsed": false
   },
   "outputs": [],
   "source": [
    "# just filling N/A in a way that doesn't throw errors, will need these to be 0 for easy maths\n",
    "moLinesLabor['SetupTemp'] = moLinesLabor['Setup'].fillna(0)\n",
    "moLinesLabor['LaborPerTemp'] = moLinesLabor['LaborPer'].fillna(0)\n",
    "moLinesLabor.drop(['Setup','LaborPer'], axis=1, inplace=True)\n",
    "moLinesLabor.rename(columns={'SetupTemp':'Setup','LaborPerTemp':'LaborPer'}, inplace=True)"
   ]
  },
  {
   "cell_type": "code",
   "execution_count": null,
   "metadata": {
    "collapsed": true
   },
   "outputs": [],
   "source": [
    "# replace nulls with 0 for maths.  Probably not necessary, didn't test.\n",
    "#moLinesLabor.fillna(0, inplace=True)\n",
    "# create a column for the total labor required for each order\n",
    "moLinesLabor['LaborRequired'] = moLinesLabor['Setup'] + (moLinesLabor['LaborPer'] * moLinesLabor['QTYREMAINING'])\n",
    "# calculate cumulative labor needed for builds in their current date order\n",
    "# moLinesLabor['CumulativeLaborRequired'] = np.nan\n",
    "# x = 0\n",
    "# for index in moLinesLabor.index:\n",
    "#     moLinesLabor.at[index, 'CumulativeLaborRequired'] = moLinesLabor.at[index, 'LaborRequired'].copy() + x\n",
    "#     x = moLinesLabor.at[index, 'CumulativeLaborRequired'].copy()"
   ]
  },
  {
   "cell_type": "code",
   "execution_count": null,
   "metadata": {
    "collapsed": true
   },
   "outputs": [],
   "source": [
    "# just temporary\n",
    "moLinesLaborSave = moLinesLabor.copy()"
   ]
  },
  {
   "cell_type": "code",
   "execution_count": null,
   "metadata": {
    "collapsed": true
   },
   "outputs": [],
   "source": [
    "# refresh!!\n",
    "moLinesLabor = moLinesLaborSave.copy()"
   ]
  },
  {
   "cell_type": "code",
   "execution_count": null,
   "metadata": {
    "collapsed": false,
    "scrolled": true
   },
   "outputs": [],
   "source": []
  },
  {
   "cell_type": "code",
   "execution_count": null,
   "metadata": {
    "collapsed": false
   },
   "outputs": [],
   "source": [
    "# create output schedule dataFrame and a variable to hold total unused labor\n",
    "outputSchedule = pd.DataFrame(columns=['ORDER','LaborRequired','EarliestScheduleDate','NewDate'])\n",
    "unusedLabor = 0"
   ]
  },
  {
   "cell_type": "code",
   "execution_count": null,
   "metadata": {
    "collapsed": true
   },
   "outputs": [],
   "source": [
    "def labor_total(orderLabor, usedLabor, extraLabor):\n",
    "    totalLabor = orderLabor + usedLabor + extraLabor\n",
    "    return totalLabor"
   ]
  },
  {
   "cell_type": "code",
   "execution_count": null,
   "metadata": {
    "collapsed": true
   },
   "outputs": [],
   "source": []
  },
  {
   "cell_type": "code",
   "execution_count": null,
   "metadata": {
    "collapsed": true
   },
   "outputs": [],
   "source": [
    "lH = 5"
   ]
  },
  {
   "cell_type": "code",
   "execution_count": null,
   "metadata": {
    "collapsed": false
   },
   "outputs": [],
   "source": [
    "# get a total of the labor needed for the line plus the labor already scheduled and expected to be unused\n",
    "totalLabor = labor_total(moLinesLabor['LaborRequired'].iat[lH], outputSchedule['LaborRequired'].sum(), unusedLabor)"
   ]
  },
  {
   "cell_type": "code",
   "execution_count": null,
   "metadata": {
    "collapsed": false
   },
   "outputs": [],
   "source": [
    "# pull the top line from the dateList where the available labor will be enough for the total required labor\n",
    "tempDate = dateList[dateList['AvailableLabor'] >= totalLabor].head(1)"
   ]
  },
  {
   "cell_type": "code",
   "execution_count": null,
   "metadata": {
    "collapsed": false
   },
   "outputs": [],
   "source": [
    "# this is the schedule date for the order\n",
    "schedDate = tempDate['StartDate'].iat[0]"
   ]
  },
  {
   "cell_type": "code",
   "execution_count": null,
   "metadata": {
    "collapsed": true
   },
   "outputs": [],
   "source": []
  },
  {
   "cell_type": "code",
   "execution_count": null,
   "metadata": {
    "collapsed": false
   },
   "outputs": [],
   "source": [
    "if schedDate < moLinesLabor['EarliestScheduleDate'].iat[lH]:\n",
    "    print('k')# move to second priority\n",
    "else:\n",
    "    outputSchedule = outputSchedule.append({'ORDER':moLinesLabor['ORDER'].iat[lH],\n",
    "                                            'LaborRequired':moLinesLabor['LaborRequired'].iat[lH],\n",
    "                                            'EarliestScheduleDate':moLinesLabor['EarliestScheduleDate'].iat[lH],\n",
    "                                            'NewDate':schedDate},\n",
    "                                            ignore_index=True)"
   ]
  },
  {
   "cell_type": "code",
   "execution_count": null,
   "metadata": {
    "collapsed": false,
    "scrolled": true
   },
   "outputs": [],
   "source": [
    "# looping through order lines to auto schedule\n",
    "# if it comes up with a schedule date before the earliest allowed,\n",
    "# it will move onto the next line to search for another order that can fit\n",
    "# \n",
    "lH = 0\n",
    "while lH < len(moLinesLabor):\n",
    "    # collect labor needed and get relevant schedule date\n",
    "    totalLabor = labor_total(moLinesLabor['LaborRequired'].iat[lH], outputSchedule['LaborRequired'].sum(), unusedLabor)\n",
    "    tempDate = dateList[dateList['AvailableLabor'] >= totalLabor].head(1)\n",
    "    schedDate = tempDate['StartDate'].iat[0]\n",
    "    if schedDate < moLinesLabor['EarliestScheduleDate'].iat[lH]:\n",
    "        # if the schedule date is before the line can schedule then move on\n",
    "        lH+=1\n",
    "        if lH >= len(moLinesLabor):\n",
    "            \n",
    "    else:\n",
    "        # otherwise add a schedule line to the output and delete the order from the labor list\n",
    "        outputSchedule = outputSchedule.append({'ORDER':moLinesLabor['ORDER'].iat[lH],\n",
    "                                                'LaborRequired':moLinesLabor['LaborRequired'].iat[lH],\n",
    "                                                'EarliestScheduleDate':moLinesLabor['EarliestScheduleDate'].iat[lH],\n",
    "                                                'NewDate':schedDate},\n",
    "                                                ignore_index=True)\n",
    "        moLinesLabor.drop(moLinesLabor.index[lH], inplace=True)\n",
    "        # set the iterator back to 0 to start back at the top of the remaining priority list\n",
    "        lH = 0"
   ]
  },
  {
   "cell_type": "code",
   "execution_count": null,
   "metadata": {
    "collapsed": false
   },
   "outputs": [],
   "source": [
    "outputSchedule"
   ]
  },
  {
   "cell_type": "code",
   "execution_count": null,
   "metadata": {
    "collapsed": true
   },
   "outputs": [],
   "source": []
  },
  {
   "cell_type": "code",
   "execution_count": null,
   "metadata": {
    "collapsed": false
   },
   "outputs": [],
   "source": [
    "moLinesLabor.sort_values('EarliestScheduleDate', inplace=True)"
   ]
  },
  {
   "cell_type": "code",
   "execution_count": null,
   "metadata": {
    "collapsed": false
   },
   "outputs": [],
   "source": [
    "moLinesLabor.index[0]"
   ]
  },
  {
   "cell_type": "code",
   "execution_count": null,
   "metadata": {
    "collapsed": true
   },
   "outputs": [],
   "source": []
  },
  {
   "cell_type": "code",
   "execution_count": null,
   "metadata": {
    "collapsed": true
   },
   "outputs": [],
   "source": []
  },
  {
   "cell_type": "code",
   "execution_count": null,
   "metadata": {
    "collapsed": true
   },
   "outputs": [],
   "source": []
  },
  {
   "cell_type": "code",
   "execution_count": null,
   "metadata": {
    "collapsed": true
   },
   "outputs": [],
   "source": [
    "moLinesLabor['ScheduledStatus'] = 'unscheduled'"
   ]
  },
  {
   "cell_type": "code",
   "execution_count": null,
   "metadata": {
    "collapsed": true
   },
   "outputs": [],
   "source": [
    "workingLine = 0"
   ]
  },
  {
   "cell_type": "code",
   "execution_count": null,
   "metadata": {
    "collapsed": false
   },
   "outputs": [],
   "source": [
    "len(moLinesLabor)"
   ]
  },
  {
   "cell_type": "code",
   "execution_count": null,
   "metadata": {
    "collapsed": false
   },
   "outputs": [],
   "source": [
    "while workingLine < len(moLinesLabor):\n",
    "    if moLinesLabor['ScheduledStatus'].iat[workingLine] == 'unscheduled':\n",
    "        laborNeeded = moLinesLabor['CumulativeLaborRequired'].iat[0]\n",
    "        tempDateList = dateList[dateList['AvailableLabor'] >= laborNeeded].copy()\n",
    "        newDate = tempDateList['StartDate'].iat[0]\n",
    "        if newDate < moLinesLabor['EarliestScheduleDate'].iat[0]:\n",
    "            skippedLineMarker = workingLine\n",
    "            \n",
    "    else:\n",
    "        workingLine += 1"
   ]
  },
  {
   "cell_type": "code",
   "execution_count": null,
   "metadata": {
    "collapsed": true
   },
   "outputs": [],
   "source": [
    "moLinesLabor['NewDate'] = np.nan\n",
    "for index in moLinesLabor.index:\n",
    "    laborNeeded = moLinesLabor.at[index, 'CumulativeLaborRequired'].copy()\n",
    "    tempDateList = dateList[dateList['AvailableLabor'] >= laborNeeded].copy()\n",
    "    newDate = tempDateList['StartDate'].iat[0]\n",
    "    moLinesLabor.at[index, 'NewDate'] = newDate"
   ]
  },
  {
   "cell_type": "code",
   "execution_count": null,
   "metadata": {
    "collapsed": true
   },
   "outputs": [],
   "source": [
    "moLinesLabor['NewDate'] = np.nan\n",
    "for "
   ]
  },
  {
   "cell_type": "code",
   "execution_count": null,
   "metadata": {
    "collapsed": true
   },
   "outputs": [],
   "source": []
  },
  {
   "cell_type": "code",
   "execution_count": null,
   "metadata": {
    "collapsed": true
   },
   "outputs": [],
   "source": [
    "moLinesLabor = sch.run_auto_schedule(modf=leadMOdf, mfgCenters=mfgCenters, dateList=dateList)"
   ]
  },
  {
   "cell_type": "code",
   "execution_count": null,
   "metadata": {
    "collapsed": false
   },
   "outputs": [],
   "source": [
    "moLinesLabor"
   ]
  },
  {
   "cell_type": "code",
   "execution_count": null,
   "metadata": {
    "collapsed": false
   },
   "outputs": [],
   "source": [
    "date1 = moLinesLabor['DATESCHEDULED'].iat[0]"
   ]
  },
  {
   "cell_type": "code",
   "execution_count": null,
   "metadata": {
    "collapsed": true
   },
   "outputs": [],
   "source": [
    "date2 = moLinesLabor['NewDate'].iat[0]"
   ]
  },
  {
   "cell_type": "code",
   "execution_count": null,
   "metadata": {
    "collapsed": false
   },
   "outputs": [],
   "source": [
    "moLinesLabor.dtypes"
   ]
  },
  {
   "cell_type": "code",
   "execution_count": null,
   "metadata": {
    "collapsed": true
   },
   "outputs": [],
   "source": []
  },
  {
   "cell_type": "code",
   "execution_count": null,
   "metadata": {
    "collapsed": false,
    "scrolled": true
   },
   "outputs": [],
   "source": [
    "leadMOdf"
   ]
  },
  {
   "cell_type": "code",
   "execution_count": null,
   "metadata": {
    "collapsed": false,
    "scrolled": true
   },
   "outputs": [],
   "source": [
    "modf"
   ]
  },
  {
   "cell_type": "code",
   "execution_count": null,
   "metadata": {
    "collapsed": false,
    "scrolled": true
   },
   "outputs": [],
   "source": [
    "dateList"
   ]
  },
  {
   "cell_type": "code",
   "execution_count": null,
   "metadata": {
    "collapsed": false
   },
   "outputs": [],
   "source": [
    "pd.Timestamp.today() - pd.Timedelta('2 days')"
   ]
  },
  {
   "cell_type": "code",
   "execution_count": null,
   "metadata": {
    "collapsed": true
   },
   "outputs": [],
   "source": []
  },
  {
   "cell_type": "code",
   "execution_count": null,
   "metadata": {
    "collapsed": true
   },
   "outputs": [],
   "source": []
  },
  {
   "cell_type": "code",
   "execution_count": null,
   "metadata": {
    "collapsed": true
   },
   "outputs": [],
   "source": []
  },
  {
   "cell_type": "code",
   "execution_count": null,
   "metadata": {
    "collapsed": true
   },
   "outputs": [],
   "source": []
  },
  {
   "cell_type": "code",
   "execution_count": null,
   "metadata": {
    "collapsed": true
   },
   "outputs": [],
   "source": []
  },
  {
   "cell_type": "code",
   "execution_count": null,
   "metadata": {
    "collapsed": true
   },
   "outputs": [],
   "source": []
  },
  {
   "cell_type": "code",
   "execution_count": null,
   "metadata": {
    "collapsed": true
   },
   "outputs": [],
   "source": []
  },
  {
   "cell_type": "code",
   "execution_count": null,
   "metadata": {
    "collapsed": true
   },
   "outputs": [],
   "source": []
  },
  {
   "cell_type": "code",
   "execution_count": null,
   "metadata": {
    "collapsed": true
   },
   "outputs": [],
   "source": []
  },
  {
   "cell_type": "code",
   "execution_count": null,
   "metadata": {
    "collapsed": true
   },
   "outputs": [],
   "source": []
  },
  {
   "cell_type": "code",
   "execution_count": null,
   "metadata": {
    "collapsed": true
   },
   "outputs": [],
   "source": []
  },
  {
   "cell_type": "code",
   "execution_count": null,
   "metadata": {
    "collapsed": true
   },
   "outputs": [],
   "source": []
  }
 ],
 "metadata": {
  "kernelspec": {
   "display_name": "Python 3",
   "language": "python",
   "name": "python3"
  },
  "language_info": {
   "codemirror_mode": {
    "name": "ipython",
    "version": 3
   },
   "file_extension": ".py",
   "mimetype": "text/x-python",
   "name": "python",
   "nbconvert_exporter": "python",
   "pygments_lexer": "ipython3",
   "version": "3.6.0"
  }
 },
 "nbformat": 4,
 "nbformat_minor": 0
}
