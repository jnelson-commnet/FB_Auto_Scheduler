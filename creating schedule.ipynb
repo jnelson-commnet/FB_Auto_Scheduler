{
 "cells": [
  {
   "cell_type": "markdown",
   "metadata": {},
   "source": [
    "IMPORTS"
   ]
  },
  {
   "cell_type": "code",
   "execution_count": null,
   "metadata": {
    "collapsed": true
   },
   "outputs": [],
   "source": [
    "import os\n",
    "import sys\n",
    "import pandas as pd\n",
    "import numpy as np"
   ]
  },
  {
   "cell_type": "code",
   "execution_count": null,
   "metadata": {
    "collapsed": false
   },
   "outputs": [],
   "source": [
    "from prog import scheduler as sch"
   ]
  },
  {
   "cell_type": "code",
   "execution_count": null,
   "metadata": {
    "collapsed": false
   },
   "outputs": [],
   "source": [
    "# save current working directory as homey\n",
    "# homey = os.path.abspath(os.path.dirname(__file__))\n",
    "homey = os.getcwd() # works in jupyter notebook"
   ]
  },
  {
   "cell_type": "code",
   "execution_count": null,
   "metadata": {
    "collapsed": true
   },
   "outputs": [],
   "source": [
    "# set directory paths\n",
    "dataPath = os.path.join(homey, 'data')\n",
    "progPath = os.path.join(homey, 'prog')\n",
    "simPath = os.path.join(homey, 'FB_Sim')\n",
    "forcPath = os.path.join(simPath, 'ForecastRedoux')\n",
    "# this should probably be moved out of the simulator and into the main sql area, where that ends up\n",
    "sqlPath = os.path.join(forcPath, 'SQL')"
   ]
  },
  {
   "cell_type": "code",
   "execution_count": null,
   "metadata": {
    "collapsed": true
   },
   "outputs": [],
   "source": [
    "# set paths to excel files\n",
    "forecastFilename = os.path.join(dataPath, 'RegularForecast.xlsx')\n",
    "mfgCentersFilename = os.path.join(dataPath, 'MfgCenters.xlsx')\n",
    "moFilename = os.path.join(dataPath, 'MOs.xlsx')\n",
    "laborAvailFilename = os.path.join(dataPath, 'LaborAvailablePerDay.xlsx')\n",
    "leadFilename = os.path.join(dataPath, 'LeadTimes.xlsx')"
   ]
  },
  {
   "cell_type": "markdown",
   "metadata": {},
   "source": [
    "QUERIES"
   ]
  },
  {
   "cell_type": "code",
   "execution_count": null,
   "metadata": {
    "collapsed": true
   },
   "outputs": [],
   "source": [
    "sys.path.insert(0, forcPath)"
   ]
  },
  {
   "cell_type": "code",
   "execution_count": null,
   "metadata": {
    "collapsed": false
   },
   "outputs": [],
   "source": [
    "import ForecastMain as fm\n",
    "import ForecastAPI as fa"
   ]
  },
  {
   "cell_type": "code",
   "execution_count": null,
   "metadata": {
    "collapsed": false
   },
   "outputs": [],
   "source": [
    "# pull the usual FB_Sim queries\n",
    "# fa.run_queries(queryPath=sqlPath, dataPath=dataPath)"
   ]
  },
  {
   "cell_type": "markdown",
   "metadata": {
    "collapsed": true
   },
   "source": [
    "GET DATA"
   ]
  },
  {
   "cell_type": "code",
   "execution_count": null,
   "metadata": {
    "collapsed": false
   },
   "outputs": [],
   "source": [
    "# save mfgCenters as df, includes MFG Center assignments and Setup/labor time estimates\n",
    "mfgCenters = pd.read_excel(mfgCentersFilename, header=0)"
   ]
  },
  {
   "cell_type": "code",
   "execution_count": null,
   "metadata": {
    "collapsed": true
   },
   "outputs": [],
   "source": [
    "# save current Manufacture Orders\n",
    "modf = pd.read_excel(moFilename, header=0)"
   ]
  },
  {
   "cell_type": "code",
   "execution_count": null,
   "metadata": {
    "collapsed": true
   },
   "outputs": [],
   "source": [
    "# save lead time estimates\n",
    "leadTimes = pd.read_excel(leadFilename, header=0)"
   ]
  },
  {
   "cell_type": "code",
   "execution_count": null,
   "metadata": {
    "collapsed": false
   },
   "outputs": [],
   "source": [
    "# sort by line priority before choosing which lead time to go with\n",
    "leadTimes.sort_values(['PART','DefaultVendor','LastDate'], ascending=[True,False,False], inplace=True)\n",
    "leadTimes.drop_duplicates('PART', keep='first', inplace=True)"
   ]
  },
  {
   "cell_type": "code",
   "execution_count": null,
   "metadata": {
    "collapsed": false
   },
   "outputs": [],
   "source": [
    "# use the Real Lead Time first and if it's not there take the vendor lead.\n",
    "leadTimes['LeadTimes'] = np.nan\n",
    "x=0\n",
    "while x < len(leadTimes):\n",
    "    if leadTimes['RealLeadTime'].iat[x] > 0:\n",
    "        leadTimes['LeadTimes'].iat[x] = leadTimes['RealLeadTime'].iat[x]\n",
    "    elif leadTimes['VendorLeadTime'].iat[x] > 0:\n",
    "        leadTimes['LeadTimes'].iat[x] = leadTimes['VendorLeadTime'].iat[x]\n",
    "    x+=1"
   ]
  },
  {
   "cell_type": "code",
   "execution_count": null,
   "metadata": {
    "collapsed": false
   },
   "outputs": [],
   "source": [
    "leadTimes = leadTimes[['PART','Make/Buy','AvgCost','LeadTimes']].copy()"
   ]
  },
  {
   "cell_type": "code",
   "execution_count": null,
   "metadata": {
    "collapsed": false,
    "scrolled": true
   },
   "outputs": [],
   "source": [
    "### this is a bandaid, I think there will be problems with NAN values later.  Need to figure out eventually.\n",
    "leadTimes.fillna(10, inplace=True)"
   ]
  },
  {
   "cell_type": "code",
   "execution_count": null,
   "metadata": {
    "collapsed": true
   },
   "outputs": [],
   "source": [
    "# this is a placeholder for a calculation of start to finish time for a build.\n",
    "# just using it for earliest schedule date right now.\n",
    "orderRunTime = 7"
   ]
  },
  {
   "cell_type": "markdown",
   "metadata": {
    "collapsed": false
   },
   "source": [
    "MAKE DATE LIST"
   ]
  },
  {
   "cell_type": "code",
   "execution_count": null,
   "metadata": {
    "collapsed": true
   },
   "outputs": [],
   "source": [
    "# creating a common timestamp, if not added they can all generate their own seconds off from each other\n",
    "todayTimestamp = pd.Timestamp.today()"
   ]
  },
  {
   "cell_type": "code",
   "execution_count": null,
   "metadata": {
    "collapsed": false
   },
   "outputs": [],
   "source": [
    "# make a date list with labor availability\n",
    "dateList = sch.create_date_list(todayTimestamp=todayTimestamp, dailyLabor=11)"
   ]
  },
  {
   "cell_type": "code",
   "execution_count": null,
   "metadata": {
    "collapsed": true
   },
   "outputs": [],
   "source": [
    "## labor type testing\n",
    "dateListProLine = sch.create_date_list(todayTimestamp=todayTimestamp, dailyLabor=40)\n",
    "dateListRacking = sch.create_date_list(todayTimestamp=todayTimestamp, dailyLabor=12)\n",
    "dateListPCB = sch.create_date_list(todayTimestamp=todayTimestamp, dailyLabor=24)\n",
    "dateListLabels = sch.create_date_list(todayTimestamp=todayTimestamp, dailyLabor=7)\n",
    "dateListKitting = sch.create_date_list(todayTimestamp=todayTimestamp, dailyLabor=12)\n",
    "dateListShipping = sch.create_date_list(todayTimestamp=todayTimestamp, dailyLabor=6)\n",
    "dateListCableAssy = sch.create_date_list(todayTimestamp=todayTimestamp, dailyLabor=6)"
   ]
  },
  {
   "cell_type": "markdown",
   "metadata": {},
   "source": [
    "CREATE IDEAL SCHEDULE"
   ]
  },
  {
   "cell_type": "code",
   "execution_count": null,
   "metadata": {
    "collapsed": true
   },
   "outputs": [],
   "source": [
    "# prep mo list with mfg centers and labor estimates\n",
    "preppedMOdf = sch.pre_schedule_prep(modf=modf.copy(), mfgCenters=mfgCenters.copy())"
   ]
  },
  {
   "cell_type": "code",
   "execution_count": null,
   "metadata": {
    "collapsed": true
   },
   "outputs": [],
   "source": [
    "# add an empty datetime column\n",
    "#   - this allows the use of the same scheduling formula throughout the script\n",
    "preppedMOdf['EarliestScheduleDate'] = np.nan\n",
    "preppedMOdf['EarliestScheduleDate'] = pd.to_datetime(preppedMOdf['EarliestScheduleDate'])"
   ]
  },
  {
   "cell_type": "markdown",
   "metadata": {
    "collapsed": false
   },
   "source": [
    "# run the auto schedule to get an ideal schedule by priority\n",
    "moLinesLabor = sch.sched_with_date_limits(orderPriority=preppedMOdf.copy(), dateList=dateList.copy())"
   ]
  },
  {
   "cell_type": "code",
   "execution_count": null,
   "metadata": {
    "collapsed": true
   },
   "outputs": [],
   "source": [
    "## labor type testing\n",
    "moLinesLaborProLine = sch.run_auto_schedule(moLinesLabor=preppedMOdf[preppedMOdf['Mfg Center'] == 'Pro Line'].copy(), dateList=dateListProLine.copy())\n",
    "moLinesLaborRacking = sch.run_auto_schedule(moLinesLabor=preppedMOdf[preppedMOdf['Mfg Center'] == 'Racking'].copy(), dateList=dateListRacking.copy())\n",
    "moLinesLaborPCB = sch.run_auto_schedule(moLinesLabor=preppedMOdf[preppedMOdf['Mfg Center'] == 'PCB'].copy(), dateList=dateListPCB.copy())\n",
    "moLinesLaborLabels = sch.run_auto_schedule(moLinesLabor=preppedMOdf[preppedMOdf['Mfg Center'] == 'Labels'].copy(), dateList=dateListLabels.copy())\n",
    "moLinesLaborKitting = sch.run_auto_schedule(moLinesLabor=preppedMOdf[preppedMOdf['Mfg Center'] == 'Kitting'].copy(), dateList=dateListKitting.copy())\n",
    "moLinesLaborShipping = sch.run_auto_schedule(moLinesLabor=preppedMOdf[preppedMOdf['Mfg Center'] == 'Shipping'].copy(), dateList=dateListShipping.copy())\n",
    "moLinesLaborCableAssy = sch.run_auto_schedule(moLinesLabor=preppedMOdf[preppedMOdf['Mfg Center'] == 'Cable Assembly'].copy(), dateList=dateListCableAssy.copy())"
   ]
  },
  {
   "cell_type": "code",
   "execution_count": null,
   "metadata": {
    "collapsed": true
   },
   "outputs": [],
   "source": [
    "## labor type testing\n",
    "moLinesLaborProLine.drop_duplicates('ORDER', keep='last', inplace=True)\n",
    "moLinesLaborRacking.drop_duplicates('ORDER', keep='last', inplace=True)\n",
    "moLinesLaborPCB.drop_duplicates('ORDER', keep='last', inplace=True)\n",
    "moLinesLaborLabels.drop_duplicates('ORDER', keep='last', inplace=True)\n",
    "moLinesLaborKitting.drop_duplicates('ORDER', keep='last', inplace=True)\n",
    "moLinesLaborShipping.drop_duplicates('ORDER', keep='last', inplace=True)\n",
    "moLinesLaborCableAssy.drop_duplicates('ORDER', keep='last', inplace=True)"
   ]
  },
  {
   "cell_type": "code",
   "execution_count": null,
   "metadata": {
    "collapsed": true
   },
   "outputs": [],
   "source": [
    "## labor type testing\n",
    "idealSchedule = pd.concat([moLinesLaborProLine,\n",
    "\t\t   \t\t\t\t   moLinesLaborRacking,\n",
    "\t\t   \t\t\t\t   moLinesLaborPCB,\n",
    "\t\t   \t\t\t\t   moLinesLaborLabels,\n",
    "\t\t   \t\t\t\t   moLinesLaborKitting,\n",
    "\t\t   \t\t\t\t   moLinesLaborShipping,\n",
    "\t\t   \t\t\t\t   moLinesLaborCableAssy])"
   ]
  },
  {
   "cell_type": "markdown",
   "metadata": {
    "collapsed": false
   },
   "source": [
    "# use the last scheduled FG in an order to save an ideal schedule\n",
    "idealSchedule = moLinesLabor.drop_duplicates('ORDER', keep='last')"
   ]
  },
  {
   "cell_type": "markdown",
   "metadata": {},
   "source": [
    "RUN THE SIM"
   ]
  },
  {
   "cell_type": "code",
   "execution_count": null,
   "metadata": {
    "collapsed": false
   },
   "outputs": [],
   "source": [
    "# replace the schedule dates on the MO order lines with the new dates for those orders\n",
    "newMOdf = pd.merge(modf.copy(), idealSchedule[['ORDER', 'NewDate']].copy(), how='left', on='ORDER')\n",
    "newMOdf['DATESCHEDULED'] = newMOdf['NewDate'].copy()\n",
    "newMOdf.drop(labels='NewDate', axis=1, inplace=True)"
   ]
  },
  {
   "cell_type": "code",
   "execution_count": null,
   "metadata": {
    "collapsed": false,
    "scrolled": true
   },
   "outputs": [],
   "source": [
    "# run the new MO schedule through the FB_Sim to find phantom orders\n",
    "orderTimeline = fm.run_normal_forecast_tiers_v3(dataPath=dataPath, includeSO=False, subMO=newMOdf.copy())"
   ]
  },
  {
   "cell_type": "markdown",
   "metadata": {
    "collapsed": true
   },
   "source": [
    "GET SCHEDULE LIMITS"
   ]
  },
  {
   "cell_type": "code",
   "execution_count": null,
   "metadata": {
    "collapsed": false
   },
   "outputs": [],
   "source": [
    "orderLeads = sch.get_earliest_leads(orderTimeline=orderTimeline.copy(),\n",
    "                                    leadTimes=leadTimes.copy(),\n",
    "                                    dateList=dateList.copy(),\n",
    "                                    orderRunTime=orderRunTime)"
   ]
  },
  {
   "cell_type": "markdown",
   "metadata": {},
   "source": [
    "ANALYZE SCHEDULE"
   ]
  },
  {
   "cell_type": "markdown",
   "metadata": {
    "collapsed": false
   },
   "source": [
    "# analyze and adjust the schedule\n",
    "newMOdf = sch.analyze_schedule(newMOdf=newMOdf.copy(),\n",
    "                               orderLeads=orderLeads.copy(),\n",
    "                               modf=modf.copy(),\n",
    "                               mfgCenters=mfgCenters.copy(),\n",
    "                               dateList=dateList.copy(),\n",
    "                               orderRunTime=orderRunTime,\n",
    "                               leadTimes=leadTimes.copy())"
   ]
  },
  {
   "cell_type": "code",
   "execution_count": null,
   "metadata": {
    "collapsed": true
   },
   "outputs": [],
   "source": [
    "# Trying something with multiple labor types, not totally into this though.  requires hard coding each type.\n",
    "def analyze_schedule_labor_types(newMOdf, orderLeads, modf, mfgCenters, dateList, orderRunTime, leadTimes, dateListProLine, dateListRacking, dateListPCB, dateListLabels, dateListKitting, dateListShipping, dateListCableAssy):\n",
    "    print('in analyze_schedule')\n",
    "    tempMOdf = newMOdf.sort_values(by=['ORDER','DATESCHEDULED'], ascending=[True, True]).copy()\n",
    "    tempMOdf.drop_duplicates('ORDER', keep='first', inplace=True)\n",
    "    checkSched = pd.merge(tempMOdf[['ORDER','DATESCHEDULED']].copy(),\n",
    "                          orderLeads[['ORDER','EarliestScheduleDate']].copy(),\n",
    "                          how='left', on='ORDER')\n",
    "    checkSched['TimeDiff'] = np.nan\n",
    "    # need to convert 'DATESCHEDULED' column to datetime or it will register as a float and error out in comparison\n",
    "    checkSched['DATESCHEDULED'] = pd.to_datetime(checkSched['DATESCHEDULED'].copy())\n",
    "    for each in range(0, len(checkSched)):\n",
    "        if checkSched['DATESCHEDULED'].iat[each] < checkSched['EarliestScheduleDate'].iat[each]:\n",
    "            checkSched['TimeDiff'] = 'here'\n",
    "            print(checkSched['ORDER'].iat[each])\n",
    "    if len(checkSched.dropna()) != 0:\n",
    "        newMOdf = schedule_loop_labor_types(modf=modf.copy(),\n",
    "                                  orderLeads=orderLeads.copy(),\n",
    "                                  mfgCenters=mfgCenters.copy(),\n",
    "                                  dateList=dateList.copy(),\n",
    "                                  orderRunTime=orderRunTime,\n",
    "                                  leadTimes=leadTimes.copy(),\n",
    "                                  dateListProLine=dateListProLine.copy(),\n",
    "                                  dateListRacking=dateListRacking.copy(),\n",
    "                                  dateListPCB=dateListPCB.copy(),\n",
    "                                  dateListLabels=dateListLabels.copy(),\n",
    "                                  dateListKitting=dateListKitting.copy(),\n",
    "                                  dateListShipping=dateListShipping.copy(),\n",
    "                                  dateListCableAssy=dateListCableAssy.copy())\n",
    "    else:\n",
    "        print('no schedule issues found')\n",
    "        return(newMOdf.copy())\n",
    "    return(newMOdf.copy())"
   ]
  },
  {
   "cell_type": "code",
   "execution_count": null,
   "metadata": {
    "collapsed": false
   },
   "outputs": [],
   "source": [
    "# adjusts schedule dates and runs a sim.  Uses analyze_schedule() to check its result.\n",
    "def schedule_loop_labor_types(modf, orderLeads, mfgCenters, dateList, orderRunTime, leadTimes, dateListProLine, dateListRacking, dateListPCB, dateListLabels, dateListKitting, dateListShipping, dateListCableAssy):\n",
    "    print('in schedule_loop')\n",
    "    ### CREATE NEW SCHEDULE ###\n",
    "\n",
    "    # save a new copy of the modf with longest leads added\n",
    "    leadMOdf = pd.merge(modf.copy(), orderLeads[['ORDER','EarliestScheduleDate']].copy(), how='left', on='ORDER')\n",
    "    moLinesLabor = sch.pre_schedule_prep(modf=leadMOdf, mfgCenters=mfgCenters.copy())\n",
    "\n",
    "    outputScheduleProLine = sch.sched_with_date_limits(orderPriority=moLinesLabor[moLinesLabor['Mfg Center'] == 'Pro Line'].copy(), dateList=dateListProLine.copy())\n",
    "    outputScheduleRacking = sch.sched_with_date_limits(orderPriority=moLinesLabor[moLinesLabor['Mfg Center'] == 'Racking'].copy(), dateList=dateListRacking.copy())\n",
    "    outputSchedulePCB = sch.sched_with_date_limits(orderPriority=moLinesLabor[moLinesLabor['Mfg Center'] == 'PCB'].copy(), dateList=dateListPCB.copy())\n",
    "    outputScheduleLabels = sch.sched_with_date_limits(orderPriority=moLinesLabor[moLinesLabor['Mfg Center'] == 'Labels'].copy(), dateList=dateListLabels.copy())\n",
    "    outputScheduleKitting = sch.sched_with_date_limits(orderPriority=moLinesLabor[moLinesLabor['Mfg Center'] == 'Kitting'].copy(), dateList=dateListKitting.copy())\n",
    "    outputScheduleShipping = sch.sched_with_date_limits(orderPriority=moLinesLabor[moLinesLabor['Mfg Center'] == 'Shipping'].copy(), dateList=dateListShipping.copy())\n",
    "    outputScheduleCableAssy = sch.sched_with_date_limits(orderPriority=moLinesLabor[moLinesLabor['Mfg Center'] == 'Cable Assembly'].copy(), dateList=dateListCableAssy.copy())\n",
    "\n",
    "    outputScheduleProLine.drop_duplicates('ORDER', keep='last', inplace=True)\n",
    "    outputScheduleRacking.drop_duplicates('ORDER', keep='last', inplace=True)\n",
    "    outputSchedulePCB.drop_duplicates('ORDER', keep='last', inplace=True)\n",
    "    outputScheduleLabels.drop_duplicates('ORDER', keep='last', inplace=True)\n",
    "    outputScheduleKitting.drop_duplicates('ORDER', keep='last', inplace=True)\n",
    "    outputScheduleShipping.drop_duplicates('ORDER', keep='last', inplace=True)\n",
    "    outputScheduleCableAssy.drop_duplicates('ORDER', keep='last', inplace=True)\n",
    "\n",
    "    newSchedule = pd.concat([outputScheduleProLine,\n",
    "                             outputScheduleRacking,\n",
    "                             outputSchedulePCB,\n",
    "                             outputScheduleLabels,\n",
    "                             outputScheduleKitting,\n",
    "                             outputScheduleShipping,\n",
    "                             outputScheduleCableAssy])\n",
    "    print('made newSchedule')\n",
    "    # outputSchedule = sched_with_date_limits(orderPriority=moLinesLabor.copy(),\n",
    "    #                                             dateList=dateList.copy())\n",
    "    # use the last scheduled FG in an order to save a new schedule\n",
    "    # newSchedule = outputSchedule.drop_duplicates('ORDER', keep='last').copy()\n",
    "\n",
    "    ### RUN THE SIM ###\n",
    "\n",
    "    # replace the schedule dates on the MO order lines with the new dates for those orders\n",
    "    newMOdf = pd.merge(modf.copy(), newSchedule[['ORDER', 'NewDate']].copy(), how='left', on='ORDER')\n",
    "    newMOdf['DATESCHEDULED'] = newMOdf['NewDate'].copy()\n",
    "    newMOdf.drop(labels='NewDate', axis=1, inplace=True)\n",
    "    \n",
    "    print('going into FB_Sim')\n",
    "    # run the new MO schedule through the FB_Sim to find phantom orders\n",
    "    orderTimeline = fm.run_normal_forecast_tiers_v3(dataPath=dataPath, includeSO=False, subMO=newMOdf.copy())\n",
    "    print('out of FB_Sim')\n",
    "\n",
    "    ### GET SCHEDULE LIMITS ###\n",
    "\n",
    "    # get a fresh list of earliest leads per order from the recent sim run\n",
    "    freshLeads = sch.get_earliest_leads(orderTimeline=orderTimeline.copy(),\n",
    "                                        leadTimes=leadTimes.copy(),\n",
    "                                        dateList=dateList.copy(),\n",
    "                                        orderRunTime=orderRunTime)\n",
    "    # combine it with any previous lists to get the last schedule date per order\n",
    "    orderLeads = sch.combine_order_leads(oldLeads=orderLeads.copy(), newLeads=freshLeads.copy())\n",
    "    print('try to analyze again')\n",
    "\n",
    "    newMOdf = analyze_schedule_labor_types(newMOdf=newMOdf.copy(),\n",
    "                                            orderLeads=orderLeads.copy(),\n",
    "                                            modf=modf.copy(),\n",
    "                                            mfgCenters=mfgCenters.copy(),\n",
    "                                            dateList=dateList.copy(),\n",
    "                                            orderRunTime=orderRunTime,\n",
    "                                            leadTimes=leadTimes.copy(),\n",
    "                                            dateListProLine=dateListProLine.copy(),\n",
    "                                            dateListRacking=dateListRacking.copy(),\n",
    "                                            dateListPCB=dateListPCB.copy(),\n",
    "                                            dateListLabels=dateListLabels.copy(),\n",
    "                                            dateListKitting=dateListKitting.copy(),\n",
    "                                            dateListShipping=dateListShipping.copy(),\n",
    "                                            dateListCableAssy=dateListCableAssy.copy())\n",
    "    return(newMOdf.copy())"
   ]
  },
  {
   "cell_type": "code",
   "execution_count": null,
   "metadata": {
    "collapsed": false,
    "scrolled": false
   },
   "outputs": [],
   "source": [
    "bork = analyze_schedule_labor_types(newMOdf=newMOdf.copy(),\n",
    "                     orderLeads=orderLeads.copy(),\n",
    "                     modf=modf.copy(),\n",
    "                     mfgCenters=mfgCenters.copy(),\n",
    "                     dateList=dateList.copy(),\n",
    "                     orderRunTime=orderRunTime,\n",
    "                     leadTimes=leadTimes.copy(),\n",
    "                     dateListProLine=dateListProLine.copy(),\n",
    "                     dateListRacking=dateListRacking.copy(),\n",
    "                     dateListPCB=dateListPCB.copy(),\n",
    "                     dateListLabels=dateListLabels.copy(),\n",
    "                     dateListKitting=dateListKitting.copy(),\n",
    "                     dateListShipping=dateListShipping.copy(),\n",
    "                     dateListCableAssy=dateListCableAssy.copy())"
   ]
  },
  {
   "cell_type": "code",
   "execution_count": null,
   "metadata": {
    "collapsed": false
   },
   "outputs": [],
   "source": [
    "bork.to_clipboard()"
   ]
  },
  {
   "cell_type": "code",
   "execution_count": null,
   "metadata": {
    "collapsed": true
   },
   "outputs": [],
   "source": []
  },
  {
   "cell_type": "code",
   "execution_count": null,
   "metadata": {
    "collapsed": true
   },
   "outputs": [],
   "source": []
  },
  {
   "cell_type": "code",
   "execution_count": null,
   "metadata": {
    "collapsed": true
   },
   "outputs": [],
   "source": []
  },
  {
   "cell_type": "code",
   "execution_count": null,
   "metadata": {
    "collapsed": true
   },
   "outputs": [],
   "source": []
  },
  {
   "cell_type": "code",
   "execution_count": null,
   "metadata": {
    "collapsed": true
   },
   "outputs": [],
   "source": []
  },
  {
   "cell_type": "code",
   "execution_count": null,
   "metadata": {
    "collapsed": true
   },
   "outputs": [],
   "source": []
  },
  {
   "cell_type": "code",
   "execution_count": null,
   "metadata": {
    "collapsed": true
   },
   "outputs": [],
   "source": [
    "print('in analyze_schedule')\n",
    "tempMOdf = newMOdf.sort_values(by=['ORDER','DATESCHEDULED'], ascending=[True, True]).copy()\n",
    "tempMOdf.drop_duplicates('ORDER', keep='first', inplace=True)\n",
    "checkSched = pd.merge(tempMOdf[['ORDER','DATESCHEDULED']].copy(),\n",
    "\t\t\t\t\t  orderLeads[['ORDER','EarliestScheduleDate']].copy(),\n",
    "\t\t\t\t\t  how='left', on='ORDER')\n",
    "checkSched['TimeDiff'] = np.nan\n",
    "# need to convert 'DATESCHEDULED' column to datetime or it will register as a float and error out in comparison\n",
    "checkSched['DATESCHEDULED'] = pd.to_datetime(checkSched['DATESCHEDULED'].copy())\n",
    "for each in range(0, len(checkSched)):\n",
    "    if checkSched['DATESCHEDULED'].iat[each] < checkSched['EarliestScheduleDate'].iat[each]:\n",
    "        checkSched['TimeDiff'] = 'here'\n",
    "        print(checkSched['ORDER'].iat[each])"
   ]
  },
  {
   "cell_type": "code",
   "execution_count": null,
   "metadata": {
    "collapsed": false
   },
   "outputs": [],
   "source": [
    "leadMOdf = pd.merge(modf.copy(), orderLeads[['ORDER','EarliestScheduleDate']].copy(), how='left', on='ORDER')\n",
    "moLinesLabor = sch.pre_schedule_prep(modf=leadMOdf, mfgCenters=mfgCenters.copy())"
   ]
  },
  {
   "cell_type": "code",
   "execution_count": null,
   "metadata": {
    "collapsed": false
   },
   "outputs": [],
   "source": [
    "outputScheduleProLine = sch.sched_with_date_limits(orderPriority=moLinesLabor[moLinesLabor['Mfg Center'] == 'Pro Line'].copy(), dateList=dateListProLine.copy())"
   ]
  },
  {
   "cell_type": "code",
   "execution_count": null,
   "metadata": {
    "collapsed": true
   },
   "outputs": [],
   "source": [
    "orderPriority = moLinesLabor[moLinesLabor['Mfg Center'] == 'Pro Line'].copy()"
   ]
  },
  {
   "cell_type": "code",
   "execution_count": null,
   "metadata": {
    "collapsed": true
   },
   "outputs": [],
   "source": [
    "outputSchedule = pd.DataFrame(columns=['ORDER','LaborRequired','EarliestScheduleDate','NewDate'])\n",
    "unusedLabor = 0\n",
    "lH = 0"
   ]
  },
  {
   "cell_type": "code",
   "execution_count": null,
   "metadata": {
    "collapsed": true
   },
   "outputs": [],
   "source": [
    "lH = 9"
   ]
  },
  {
   "cell_type": "code",
   "execution_count": null,
   "metadata": {
    "collapsed": false
   },
   "outputs": [],
   "source": [
    "totalLabor = sch.labor_total(orderLabor=orderPriority['LaborRequired'].iat[lH],\n",
    "                             usedLabor=outputSchedule['LaborRequired'].sum(),\n",
    "                             extraLabor=unusedLabor)\n",
    "tempDate = dateListProLine[dateListProLine['AvailableLabor'] >= totalLabor].head(1)\n",
    "schedDate = tempDate['StartDate'].iat[0]"
   ]
  },
  {
   "cell_type": "code",
   "execution_count": null,
   "metadata": {
    "collapsed": false
   },
   "outputs": [],
   "source": [
    "lH+=1"
   ]
  },
  {
   "cell_type": "code",
   "execution_count": null,
   "metadata": {
    "collapsed": false
   },
   "outputs": [],
   "source": [
    "orderPriority.sort_values('EarliestScheduleDate', inplace=True)"
   ]
  },
  {
   "cell_type": "code",
   "execution_count": null,
   "metadata": {
    "collapsed": true
   },
   "outputs": [],
   "source": [
    "lH = 0"
   ]
  },
  {
   "cell_type": "code",
   "execution_count": null,
   "metadata": {
    "collapsed": true
   },
   "outputs": [],
   "source": [
    "schedDate = orderPriority['EarliestScheduleDate'].iat[0]"
   ]
  },
  {
   "cell_type": "code",
   "execution_count": null,
   "metadata": {
    "collapsed": false
   },
   "outputs": [],
   "source": [
    "schedDate"
   ]
  },
  {
   "cell_type": "code",
   "execution_count": null,
   "metadata": {
    "collapsed": true
   },
   "outputs": [],
   "source": [
    "outputSchedule = outputSchedule.append({'ORDER':orderPriority['ORDER'].iat[lH],\n",
    "                                                    'LaborRequired':orderPriority['LaborRequired'].iat[lH],\n",
    "                                                    'EarliestScheduleDate':orderPriority['EarliestScheduleDate'].iat[lH],\n",
    "                                                    'NewDate':schedDate},\n",
    "                                                    ignore_index=True)"
   ]
  },
  {
   "cell_type": "code",
   "execution_count": null,
   "metadata": {
    "collapsed": true
   },
   "outputs": [],
   "source": [
    "orderPriority.drop(orderPriority.index[lH], inplace=True)"
   ]
  },
  {
   "cell_type": "code",
   "execution_count": null,
   "metadata": {
    "collapsed": true
   },
   "outputs": [],
   "source": [
    "orderPriority.sort_values('DATESCHEDULED', inplace=True)"
   ]
  },
  {
   "cell_type": "code",
   "execution_count": null,
   "metadata": {
    "collapsed": false
   },
   "outputs": [],
   "source": [
    "tempDate"
   ]
  },
  {
   "cell_type": "code",
   "execution_count": null,
   "metadata": {
    "collapsed": true
   },
   "outputs": [],
   "source": [
    "tempDate = dateListProLine[dateListProLine['StartDate'] == schedDate]"
   ]
  },
  {
   "cell_type": "code",
   "execution_count": null,
   "metadata": {
    "collapsed": false
   },
   "outputs": [],
   "source": [
    "schedDate"
   ]
  },
  {
   "cell_type": "code",
   "execution_count": null,
   "metadata": {
    "collapsed": false,
    "scrolled": true
   },
   "outputs": [],
   "source": [
    "dateListProLine"
   ]
  },
  {
   "cell_type": "code",
   "execution_count": null,
   "metadata": {
    "collapsed": false
   },
   "outputs": [],
   "source": [
    "dateList"
   ]
  },
  {
   "cell_type": "code",
   "execution_count": null,
   "metadata": {
    "collapsed": false,
    "scrolled": false
   },
   "outputs": [],
   "source": [
    "while lH < len(orderPriority):\n",
    "    print(lH)\n",
    "    # collect labor needed and get relevant schedule date\n",
    "    totalLabor = sch.labor_total(orderLabor=orderPriority['LaborRequired'].iat[lH],\n",
    "                             usedLabor=outputSchedule['LaborRequired'].sum(),\n",
    "                             extraLabor=unusedLabor)\n",
    "    tempDate = dateListProLine[dateListProLine['AvailableLabor'] >= totalLabor].head(1)\n",
    "    schedDate = tempDate['StartDate'].iat[0]\n",
    "    if schedDate < orderPriority['EarliestScheduleDate'].iat[lH]:\n",
    "        # if the schedule date is before the line can schedule then move on\n",
    "        lH+=1\n",
    "        if lH >= len(orderPriority):\n",
    "            # if there are no more priorities then there can only be orders held by their earliest schedule dates\n",
    "            # temporarily sort by earliest allowed date to find the next order to schedule\n",
    "            orderPriority.sort_values('EarliestScheduleDate', inplace=True)\n",
    "            lH = 0\n",
    "            schedDate = orderPriority['EarliestScheduleDate'].iat[0]\n",
    "            outputSchedule = outputSchedule.append({'ORDER':orderPriority['ORDER'].iat[lH],\n",
    "                                                    'LaborRequired':orderPriority['LaborRequired'].iat[lH],\n",
    "                                                    'EarliestScheduleDate':orderPriority['EarliestScheduleDate'].iat[lH],\n",
    "                                                    'NewDate':schedDate},\n",
    "                                                    ignore_index=True)\n",
    "            orderPriority.drop(orderPriority.index[lH], inplace=True)\n",
    "            orderPriority.sort_values('DATESCHEDULED', inplace=True)\n",
    "            # now that it's set, we need to add value to unused labor (any labor skipped due to material timing)\n",
    "            # otherwise overlapping earliest schedule dates could overlap and double up on available labor\n",
    "            tempDate = dateListProLine[dateListProLine['StartDate'] == schedDate]\n",
    "            availLabor = tempDate['AvailableLabor'].iat[0]\n",
    "            usedLabor = outputSchedule['LaborRequired'].sum() + unusedLabor\n",
    "            laborGap = availLabor - usedLabor\n",
    "            unusedLabor = laborGap + unusedLabor\n",
    "    else:\n",
    "        print('schedule')\n",
    "        # otherwise add a schedule line to the output and delete the order from the labor list\n",
    "        outputSchedule = outputSchedule.append({'ORDER':orderPriority['ORDER'].iat[lH],\n",
    "                                                'LaborRequired':orderPriority['LaborRequired'].iat[lH],\n",
    "                                                'EarliestScheduleDate':orderPriority['EarliestScheduleDate'].iat[lH],\n",
    "                                                'NewDate':schedDate},\n",
    "                                                ignore_index=True)\n",
    "        orderPriority.drop(orderPriority.index[lH], inplace=True)\n",
    "        # set the iterator back to 0 to start back at the top of the remaining priority list\n",
    "        lH = 0"
   ]
  },
  {
   "cell_type": "code",
   "execution_count": null,
   "metadata": {
    "collapsed": false,
    "scrolled": true
   },
   "outputs": [],
   "source": [
    "outputSchedule"
   ]
  },
  {
   "cell_type": "code",
   "execution_count": null,
   "metadata": {
    "collapsed": false
   },
   "outputs": [],
   "source": [
    "orderPriority"
   ]
  },
  {
   "cell_type": "code",
   "execution_count": null,
   "metadata": {
    "collapsed": true
   },
   "outputs": [],
   "source": [
    "orderPriority.to_clipboard()"
   ]
  }
 ],
 "metadata": {
  "anaconda-cloud": {},
  "kernelspec": {
   "display_name": "Python [Root]",
   "language": "python",
   "name": "Python [Root]"
  },
  "language_info": {
   "codemirror_mode": {
    "name": "ipython",
    "version": 3
   },
   "file_extension": ".py",
   "mimetype": "text/x-python",
   "name": "python",
   "nbconvert_exporter": "python",
   "pygments_lexer": "ipython3",
   "version": "3.5.2"
  }
 },
 "nbformat": 4,
 "nbformat_minor": 0
}
