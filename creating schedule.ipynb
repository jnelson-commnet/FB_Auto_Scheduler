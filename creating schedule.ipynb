{
 "cells": [
  {
   "cell_type": "code",
   "execution_count": null,
   "metadata": {
    "collapsed": true
   },
   "outputs": [],
   "source": [
    "import os\n",
    "import sys\n",
    "import pandas as pd\n",
    "import numpy as np"
   ]
  },
  {
   "cell_type": "code",
   "execution_count": null,
   "metadata": {
    "collapsed": true
   },
   "outputs": [],
   "source": [
    "from prog import scheduler as sch"
   ]
  },
  {
   "cell_type": "code",
   "execution_count": null,
   "metadata": {
    "collapsed": false
   },
   "outputs": [],
   "source": [
    "# save current working directory as homey\n",
    "# homey = os.path.abspath(os.path.dirname(__file__))\n",
    "homey = os.getcwd() # works in jupyter notebook"
   ]
  },
  {
   "cell_type": "code",
   "execution_count": null,
   "metadata": {
    "collapsed": true
   },
   "outputs": [],
   "source": [
    "# set directory paths\n",
    "dataPath = os.path.join(homey, 'data')\n",
    "progPath = os.path.join(homey, 'prog')\n",
    "simPath = os.path.join(homey, 'FB_Sim')\n",
    "forcPath = os.path.join(simPath, 'ForecastRedoux')\n",
    "# this should probably be moved out of the simulator and into the main sql area, where that ends up\n",
    "sqlPath = os.path.join(forcPath, 'SQL')"
   ]
  },
  {
   "cell_type": "code",
   "execution_count": null,
   "metadata": {
    "collapsed": false
   },
   "outputs": [],
   "source": [
    "# set paths to excel files\n",
    "forecastFilename = os.path.join(dataPath, 'RegularForecast.xlsx')\n",
    "mfgCentersFilename = os.path.join(dataPath, 'MfgCenters.xlsx')\n",
    "moFilename = os.path.join(dataPath, 'MOs.xlsx')\n",
    "laborAvailFilename = os.path.join(dataPath, 'LaborAvailablePerDay.xlsx')\n",
    "leadFilename = os.path.join(dataPath, 'LeadTimes.xlsx')"
   ]
  },
  {
   "cell_type": "code",
   "execution_count": null,
   "metadata": {
    "collapsed": true
   },
   "outputs": [],
   "source": [
    "sys.path.insert(0, forcPath)"
   ]
  },
  {
   "cell_type": "code",
   "execution_count": null,
   "metadata": {
    "collapsed": false
   },
   "outputs": [],
   "source": [
    "import ForecastMain as fm\n",
    "import ForecastAPI as fa"
   ]
  },
  {
   "cell_type": "code",
   "execution_count": null,
   "metadata": {
    "collapsed": false
   },
   "outputs": [],
   "source": [
    "# pull the usual FB_Sim queries\n",
    "# fa.run_queries(queryPath=sqlPath, dataPath=dataPath)"
   ]
  },
  {
   "cell_type": "code",
   "execution_count": null,
   "metadata": {
    "collapsed": true
   },
   "outputs": [],
   "source": []
  },
  {
   "cell_type": "code",
   "execution_count": null,
   "metadata": {
    "collapsed": false
   },
   "outputs": [],
   "source": [
    "# save mfgCenters as df, includes MFG Center assignments and Setup/labor time estimates\n",
    "mfgCenters = pd.read_excel(mfgCentersFilename, header=0)"
   ]
  },
  {
   "cell_type": "code",
   "execution_count": null,
   "metadata": {
    "collapsed": true
   },
   "outputs": [],
   "source": [
    "# save current Manufacture Orders\n",
    "modf = pd.read_excel(moFilename, header=0)"
   ]
  },
  {
   "cell_type": "code",
   "execution_count": null,
   "metadata": {
    "collapsed": true
   },
   "outputs": [],
   "source": [
    "# save lead time estimates\n",
    "leadTimes = pd.read_excel(leadFilename, header=0)"
   ]
  },
  {
   "cell_type": "code",
   "execution_count": null,
   "metadata": {
    "collapsed": false
   },
   "outputs": [],
   "source": []
  },
  {
   "cell_type": "code",
   "execution_count": null,
   "metadata": {
    "collapsed": false
   },
   "outputs": [],
   "source": [
    "# make a date list with labor availability\n",
    "dateList = sch.create_date_list(dailyLabor=11)"
   ]
  },
  {
   "cell_type": "code",
   "execution_count": null,
   "metadata": {
    "collapsed": false
   },
   "outputs": [],
   "source": [
    "# run the auto schedule to get an ideal schedule by priority\n",
    "moLinesLabor = sch.run_auto_schedule(modf=modf, mfgCenters=mfgCenters, dateList=dateList)"
   ]
  },
  {
   "cell_type": "code",
   "execution_count": null,
   "metadata": {
    "collapsed": true
   },
   "outputs": [],
   "source": []
  },
  {
   "cell_type": "code",
   "execution_count": null,
   "metadata": {
    "collapsed": true
   },
   "outputs": [],
   "source": []
  },
  {
   "cell_type": "code",
   "execution_count": null,
   "metadata": {
    "collapsed": false
   },
   "outputs": [],
   "source": [
    "# use the last scheduled FG in an order to save an ideal schedule\n",
    "idealSchedule = moLinesLabor.drop_duplicates('ORDER', keep='last')"
   ]
  },
  {
   "cell_type": "code",
   "execution_count": null,
   "metadata": {
    "collapsed": false
   },
   "outputs": [],
   "source": [
    "# replace the schedule dates on the MO order lines with the new dates for those orders\n",
    "newMOdf = pd.merge(modf.copy(), idealSchedule[['ORDER', 'NewDate']].copy(), how='left', on='ORDER')\n",
    "newMOdf['DATESCHEDULED'] = newMOdf['NewDate'].copy()\n",
    "newMOdf.drop(labels='NewDate', axis=1, inplace=True)"
   ]
  },
  {
   "cell_type": "code",
   "execution_count": null,
   "metadata": {
    "collapsed": true
   },
   "outputs": [],
   "source": []
  },
  {
   "cell_type": "code",
   "execution_count": null,
   "metadata": {
    "collapsed": true
   },
   "outputs": [],
   "source": []
  },
  {
   "cell_type": "code",
   "execution_count": null,
   "metadata": {
    "collapsed": false,
    "scrolled": true
   },
   "outputs": [],
   "source": [
    "# run the new MO schedule through the FB_Sim to find phantom orders\n",
    "orderTimeline = fm.run_normal_forecast_tiers_v3(dataPath=dataPath, includeSO=False, subMO=newMOdf.copy())"
   ]
  },
  {
   "cell_type": "code",
   "execution_count": null,
   "metadata": {
    "collapsed": true
   },
   "outputs": [],
   "source": []
  },
  {
   "cell_type": "code",
   "execution_count": null,
   "metadata": {
    "collapsed": true
   },
   "outputs": [],
   "source": [
    "# get a list of phantom orders and their grandparent orders\n",
    "### Currently phantom orders are placed a day before the order with the shortage will finish.  So\n",
    "###     if the lead time field is used later, this could throw the phantom schedule dates.  I'll\n",
    "###     try to avoid this by getting back to the shortage date, but it might become redundant later.\n",
    "phantoms = orderTimeline[orderTimeline['ITEM'] == 'Phantom'].copy()\n",
    "buyPhantoms = phantoms[phantoms['Make/Buy'] == 'Buy'].copy()\n"
   ]
  },
  {
   "cell_type": "code",
   "execution_count": null,
   "metadata": {
    "collapsed": false
   },
   "outputs": [],
   "source": [
    "# add the lead times to each part\n",
    "leadPhantoms = pd.merge(buyPhantoms.copy(), leadTimes[['PART','LeadTimes']].copy(), how='left', on='PART')"
   ]
  },
  {
   "cell_type": "code",
   "execution_count": null,
   "metadata": {
    "collapsed": true
   },
   "outputs": [],
   "source": [
    "# simplify the dataFrame - not necessary\n",
    "orderLeads = leadPhantoms[['GRANDPARENT','LeadTimes']].copy()"
   ]
  },
  {
   "cell_type": "code",
   "execution_count": null,
   "metadata": {
    "collapsed": false
   },
   "outputs": [],
   "source": [
    "# sort by grandparent and then lead time to make sure the highest lead time comes first\n",
    "orderLeads.sort_values(by=['GRANDPARENT','LeadTimes'], ascending=[True, False], inplace=True)"
   ]
  },
  {
   "cell_type": "code",
   "execution_count": null,
   "metadata": {
    "collapsed": false
   },
   "outputs": [],
   "source": [
    "# drop duplicate grandparents leaving the longest lead as the only one remaining\n",
    "orderLeads.drop_duplicates('GRANDPARENT', keep='first', inplace=True)"
   ]
  },
  {
   "cell_type": "code",
   "execution_count": null,
   "metadata": {
    "collapsed": true
   },
   "outputs": [],
   "source": [
    "# rename column for easy merge\n",
    "orderLeads.rename(columns={'GRANDPARENT':'ORDER'}, inplace=True)"
   ]
  },
  {
   "cell_type": "code",
   "execution_count": null,
   "metadata": {
    "collapsed": false,
    "scrolled": true
   },
   "outputs": [],
   "source": [
    "# save a new copy of the modf with longest leads added\n",
    "leadMOdf = pd.merge(modf.copy(), orderLeads.copy(), how='left', on='ORDER')"
   ]
  },
  {
   "cell_type": "code",
   "execution_count": null,
   "metadata": {
    "collapsed": false
   },
   "outputs": [],
   "source": [
    "# fill missing leads with 0 since that is effectively what is required\n",
    "leadMOdf.fillna(0, inplace=True)"
   ]
  },
  {
   "cell_type": "code",
   "execution_count": null,
   "metadata": {
    "collapsed": true
   },
   "outputs": [],
   "source": []
  },
  {
   "cell_type": "code",
   "execution_count": null,
   "metadata": {
    "collapsed": false,
    "scrolled": true
   },
   "outputs": [],
   "source": [
    "modf"
   ]
  },
  {
   "cell_type": "code",
   "execution_count": null,
   "metadata": {
    "collapsed": false,
    "scrolled": true
   },
   "outputs": [],
   "source": [
    "leadMOdf"
   ]
  },
  {
   "cell_type": "code",
   "execution_count": null,
   "metadata": {
    "collapsed": true
   },
   "outputs": [],
   "source": [
    "leadMOdfSave = leadMOdf.copy()\n",
    "mfgCentersSave = mfgCenters.copy()\n",
    "dateListSave = dateList.copy()"
   ]
  },
  {
   "cell_type": "code",
   "execution_count": null,
   "metadata": {
    "collapsed": true
   },
   "outputs": [],
   "source": [
    "# getting a list of Finished Goods on MO's\n",
    "moFgOnly = leadMOdf[leadMOdf['ORDERTYPE'] == 'Finished Good'].copy()\n",
    "# sorting by date so the earliest scheduled can be the highest priority\n",
    "moFgOnly.sort_values('DATESCHEDULED', inplace=True)\n",
    "# renaming part column to match MO header\n",
    "mfgCenters.rename(columns={'Part':'PART'}, inplace=True)\n",
    "# adding centers and labor estimates to MO lines\n",
    "moLinesLabor = pd.merge(moFgOnly.copy(), mfgCenters.copy(), how='left', on='PART')\n",
    "# save missing info for later.  Will want user to see what items were missed for lack of data.\n",
    "missingCenters = moLinesLabor[moLinesLabor['Mfg Center'].isnull()].copy()\n",
    "missingSetup = moLinesLabor[moLinesLabor['Setup'].isnull()].copy()\n",
    "missingLabor = moLinesLabor[moLinesLabor['LaborPer'].isnull()].copy()\n",
    "# replace nulls with 0 for maths.  Probably not necessary, didn't test.\n",
    "moLinesLabor.fillna(0, inplace=True)\n",
    "# create a column for the total labor required for each order\n",
    "moLinesLabor['LaborRequired'] = moLinesLabor['Setup'] + (moLinesLabor['LaborPer'] * moLinesLabor['QTYREMAINING'])\n",
    "# calculate cumulative labor needed for builds in their current date order\n",
    "moLinesLabor['CumulativeLaborRequired'] = np.nan\n",
    "x = 0\n",
    "for index in moLinesLabor.index:\n",
    "    moLinesLabor.at[index, 'CumulativeLaborRequired'] = moLinesLabor.at[index, 'LaborRequired'].copy() + x\n",
    "    x = moLinesLabor.at[index, 'CumulativeLaborRequired'].copy()"
   ]
  },
  {
   "cell_type": "code",
   "execution_count": null,
   "metadata": {
    "collapsed": true
   },
   "outputs": [],
   "source": [
    "# just temporary\n",
    "moLinesLaborSave = moLinesLabor.copy()"
   ]
  },
  {
   "cell_type": "code",
   "execution_count": null,
   "metadata": {
    "collapsed": true
   },
   "outputs": [],
   "source": [
    "# refresh!!\n",
    "moLinesLabor = moLinesLaborSave.copy()"
   ]
  },
  {
   "cell_type": "code",
   "execution_count": null,
   "metadata": {
    "collapsed": true
   },
   "outputs": [],
   "source": [
    "moLinesLabor['NewDate'] = np.nan\n",
    "for index in moLinesLabor.index:\n",
    "    laborNeeded = moLinesLabor.at[index, 'CumulativeLaborRequired'].copy()\n",
    "    tempDateList = dateList[dateList['AvailableLabor'] >= laborNeeded].copy()\n",
    "    newDate = tempDateList['StartDate'].iat[0]\n",
    "    moLinesLabor.at[index, 'NewDate'] = newDate"
   ]
  },
  {
   "cell_type": "code",
   "execution_count": null,
   "metadata": {
    "collapsed": true
   },
   "outputs": [],
   "source": [
    "moLinesLabor['NewDate'] = np.nan\n",
    "for "
   ]
  },
  {
   "cell_type": "code",
   "execution_count": null,
   "metadata": {
    "collapsed": true
   },
   "outputs": [],
   "source": []
  },
  {
   "cell_type": "code",
   "execution_count": null,
   "metadata": {
    "collapsed": true
   },
   "outputs": [],
   "source": [
    "moLinesLabor = sch.run_auto_schedule(modf=leadMOdf, mfgCenters=mfgCenters, dateList=dateList)"
   ]
  },
  {
   "cell_type": "code",
   "execution_count": null,
   "metadata": {
    "collapsed": false
   },
   "outputs": [],
   "source": [
    "moLinesLabor"
   ]
  },
  {
   "cell_type": "code",
   "execution_count": null,
   "metadata": {
    "collapsed": true
   },
   "outputs": [],
   "source": []
  },
  {
   "cell_type": "code",
   "execution_count": null,
   "metadata": {
    "collapsed": true
   },
   "outputs": [],
   "source": []
  },
  {
   "cell_type": "code",
   "execution_count": null,
   "metadata": {
    "collapsed": true
   },
   "outputs": [],
   "source": []
  },
  {
   "cell_type": "code",
   "execution_count": null,
   "metadata": {
    "collapsed": true
   },
   "outputs": [],
   "source": []
  },
  {
   "cell_type": "code",
   "execution_count": null,
   "metadata": {
    "collapsed": false,
    "scrolled": true
   },
   "outputs": [],
   "source": [
    "leadMOdf"
   ]
  },
  {
   "cell_type": "code",
   "execution_count": null,
   "metadata": {
    "collapsed": false,
    "scrolled": true
   },
   "outputs": [],
   "source": [
    "modf"
   ]
  },
  {
   "cell_type": "code",
   "execution_count": null,
   "metadata": {
    "collapsed": false,
    "scrolled": true
   },
   "outputs": [],
   "source": [
    "dateList"
   ]
  },
  {
   "cell_type": "code",
   "execution_count": null,
   "metadata": {
    "collapsed": true
   },
   "outputs": [],
   "source": []
  },
  {
   "cell_type": "code",
   "execution_count": null,
   "metadata": {
    "collapsed": true
   },
   "outputs": [],
   "source": []
  },
  {
   "cell_type": "code",
   "execution_count": null,
   "metadata": {
    "collapsed": true
   },
   "outputs": [],
   "source": []
  },
  {
   "cell_type": "code",
   "execution_count": null,
   "metadata": {
    "collapsed": true
   },
   "outputs": [],
   "source": []
  },
  {
   "cell_type": "code",
   "execution_count": null,
   "metadata": {
    "collapsed": true
   },
   "outputs": [],
   "source": []
  },
  {
   "cell_type": "code",
   "execution_count": null,
   "metadata": {
    "collapsed": true
   },
   "outputs": [],
   "source": []
  },
  {
   "cell_type": "code",
   "execution_count": null,
   "metadata": {
    "collapsed": true
   },
   "outputs": [],
   "source": []
  },
  {
   "cell_type": "code",
   "execution_count": null,
   "metadata": {
    "collapsed": true
   },
   "outputs": [],
   "source": []
  },
  {
   "cell_type": "code",
   "execution_count": null,
   "metadata": {
    "collapsed": true
   },
   "outputs": [],
   "source": []
  },
  {
   "cell_type": "code",
   "execution_count": null,
   "metadata": {
    "collapsed": true
   },
   "outputs": [],
   "source": []
  },
  {
   "cell_type": "code",
   "execution_count": null,
   "metadata": {
    "collapsed": true
   },
   "outputs": [],
   "source": []
  },
  {
   "cell_type": "code",
   "execution_count": null,
   "metadata": {
    "collapsed": true
   },
   "outputs": [],
   "source": []
  },
  {
   "cell_type": "code",
   "execution_count": null,
   "metadata": {
    "collapsed": true
   },
   "outputs": [],
   "source": []
  }
 ],
 "metadata": {
  "kernelspec": {
   "display_name": "Python [Root]",
   "language": "python",
   "name": "Python [Root]"
  },
  "language_info": {
   "codemirror_mode": {
    "name": "ipython",
    "version": 3
   },
   "file_extension": ".py",
   "mimetype": "text/x-python",
   "name": "python",
   "nbconvert_exporter": "python",
   "pygments_lexer": "ipython3",
   "version": "3.5.2"
  }
 },
 "nbformat": 4,
 "nbformat_minor": 0
}
