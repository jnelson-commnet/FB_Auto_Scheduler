{
 "cells": [
  {
   "cell_type": "code",
   "execution_count": null,
   "metadata": {
    "collapsed": true
   },
   "outputs": [],
   "source": [
    "import pandas as pd\n",
    "import os\n",
    "import numpy as np"
   ]
  },
  {
   "cell_type": "code",
   "execution_count": null,
   "metadata": {
    "collapsed": false
   },
   "outputs": [],
   "source": [
    "# this directory is where I'm leaving files temporarily from the test server\n",
    "csvDir = \"Z:\\Jack's stuff\\FBTestServer\""
   ]
  },
  {
   "cell_type": "code",
   "execution_count": null,
   "metadata": {
    "collapsed": false
   },
   "outputs": [],
   "source": [
    "# probably should change these file names ...\n",
    "# some active boms is the export of all active boms from FB\n",
    "# FB_Aweto is the list of boms with labor data\n",
    "# import bom sheet is the sheet saved at the end to be imported back into FB\n",
    "csvFilepath = os.path.join(csvDir, 'some active boms.csv')\n",
    "laborSheet = os.path.join(csvDir, 'FB_Aweto.csv')\n",
    "saveSheet = os.path.join(csvDir, 'import bom sheet.csv')"
   ]
  },
  {
   "cell_type": "code",
   "execution_count": null,
   "metadata": {
    "collapsed": true
   },
   "outputs": [],
   "source": [
    "#csvFilepath = os.path.join(csvDir, 'BOMs.csv')"
   ]
  },
  {
   "cell_type": "code",
   "execution_count": null,
   "metadata": {
    "collapsed": false
   },
   "outputs": [],
   "source": [
    "# MFG labor types from the data module query used in FB_Auto_Scheduler\n",
    "data = pd.read_csv(laborSheet)"
   ]
  },
  {
   "cell_type": "code",
   "execution_count": null,
   "metadata": {
    "collapsed": false,
    "scrolled": true
   },
   "outputs": [],
   "source": [
    "# BOM export from FB\n",
    "# note that if this gives a warning about mixed datatype, the import will probably fail.\n",
    "boms = pd.read_csv(csvFilepath)"
   ]
  },
  {
   "cell_type": "code",
   "execution_count": null,
   "metadata": {
    "collapsed": true
   },
   "outputs": [],
   "source": [
    "# column headers from the BOM export\n",
    "flag = 'Flag'\n",
    "bomNum = 'Number'\n",
    "center = 'CF-Production Center'\n",
    "setup = 'CF-Kitting Set-Up Time'\n",
    "kit = 'CF-Kitting unit multiple'\n",
    "assy = 'CF-Unit Assembly multiple'\n",
    "test = 'CF-Test and QC Multiple'\n",
    "pack = 'CF-Packaging/ Storage Prep. Multiple'\n",
    "mach1 = 'CF-Machine 1'\n",
    "mach1Setup = 'CF-Machine 1 Set up Time'\n",
    "mach1Mult = 'CF-Machine 1 Run Time (Per Unit)'\n",
    "mach2 = 'CF-Machine 2'\n",
    "mach2Setup = 'CF-Machine 2 Set up Time'\n",
    "mach2Mult = 'CF-Machine 2 Run Time (Per Unit)'"
   ]
  },
  {
   "cell_type": "code",
   "execution_count": null,
   "metadata": {
    "collapsed": true
   },
   "outputs": [],
   "source": [
    "# making a list of BOM columns for editing values\n",
    "bomHeaderList = [center,\n",
    "                 setup,\n",
    "                 kit,\n",
    "                 assy,\n",
    "                 test,\n",
    "                 pack,\n",
    "                 mach1,\n",
    "                 mach1Setup,\n",
    "                 mach1Mult,\n",
    "                 mach2,\n",
    "                 mach2Setup,\n",
    "                 mach2Mult]"
   ]
  },
  {
   "cell_type": "code",
   "execution_count": null,
   "metadata": {
    "collapsed": true
   },
   "outputs": [],
   "source": [
    "# making a list of columns use for reference when editing BOMs\n",
    "dataHeaderList = ['Production Center',\n",
    "                 'Kit Setup',\n",
    "                 'Kit Mult',\n",
    "                 'Assy Mult',\n",
    "                 'Test Mult',\n",
    "                 'Pack Mult',\n",
    "                 'Machine 1',\n",
    "                 'Machine 1 Setup',\n",
    "                 'Machine 1 Mult',\n",
    "                 'Machine 2',\n",
    "                 'Machine 2 Setup',\n",
    "                 'Machine 2 Mult']"
   ]
  },
  {
   "cell_type": "code",
   "execution_count": null,
   "metadata": {
    "collapsed": false,
    "scrolled": true
   },
   "outputs": [],
   "source": [
    "# have to cast these columns as strings or it thinks they're floats and fails to set a value\n",
    "boms[[center, mach1, mach2]] = boms[[center, mach1, mach2]].copy().astype(str)"
   ]
  },
  {
   "cell_type": "code",
   "execution_count": null,
   "metadata": {
    "collapsed": false,
    "scrolled": true
   },
   "outputs": [],
   "source": [
    "# this loop looks through the BOM export for BOM lines, finds the comparable line in the data sheet,\n",
    "#   and edits the BOM info accordingly.\n",
    "# this is working but it will fail when it finds a BOM from the export that's missing from the labor estimate list\n",
    "for line in range(0, len(boms)):\n",
    "    if boms[flag].iat[line] == 'BOM':\n",
    "        num = boms[bomNum].iat[line]\n",
    "        info = data[data['BOM'] == num].copy()\n",
    "        if len(info) > 0:\n",
    "            for header in range(0, len(bomHeaderList)):\n",
    "                print(line)\n",
    "                print(header)\n",
    "                boms[bomHeaderList[header]].iat[line] = info[dataHeaderList[header]].iat[0]"
   ]
  },
  {
   "cell_type": "code",
   "execution_count": null,
   "metadata": {
    "collapsed": false
   },
   "outputs": [],
   "source": [
    "# pandas filled NaN values with 'nan' strings when these columns were cast as strings.\n",
    "# this just reverts what's left.\n",
    "boms[center].replace(to_replace='nan', value=np.nan, inplace=True)\n",
    "boms[mach1].replace(to_replace='nan', value=np.nan, inplace=True)\n",
    "boms[mach2].replace(to_replace='nan', value=np.nan, inplace=True)"
   ]
  },
  {
   "cell_type": "code",
   "execution_count": null,
   "metadata": {
    "collapsed": false,
    "scrolled": true
   },
   "outputs": [],
   "source": [
    "# trying to remove all the extra BOMs from the list to speed up import and avoid data issues\n",
    "boms.reset_index(drop=True, inplace=True)"
   ]
  },
  {
   "cell_type": "code",
   "execution_count": null,
   "metadata": {
    "collapsed": true
   },
   "outputs": [],
   "source": [
    "boms['Destiny'] = 'keep'"
   ]
  },
  {
   "cell_type": "code",
   "execution_count": null,
   "metadata": {
    "collapsed": true
   },
   "outputs": [],
   "source": [
    "destinySetter = 'keep'"
   ]
  },
  {
   "cell_type": "code",
   "execution_count": null,
   "metadata": {
    "collapsed": true
   },
   "outputs": [],
   "source": [
    "for line in range (0, len(boms)):\n",
    "    if boms[flag].iat[line] == 'BOM':\n",
    "        num = boms[bomNum].iat[line]\n",
    "        info = data[data['BOM'] == num].copy()\n",
    "        if len(info) > 0:\n",
    "            destinySetter = 'keep'\n",
    "        else:\n",
    "            destinySetter = 'drop'\n",
    "    boms['Destiny'].iat[line] = destinySetter"
   ]
  },
  {
   "cell_type": "code",
   "execution_count": null,
   "metadata": {
    "collapsed": false
   },
   "outputs": [],
   "source": [
    "boms = boms[boms['Destiny'] == 'keep'].copy()"
   ]
  },
  {
   "cell_type": "code",
   "execution_count": null,
   "metadata": {
    "collapsed": false
   },
   "outputs": [],
   "source": [
    "boms.drop('Destiny', axis=1, inplace=True)"
   ]
  },
  {
   "cell_type": "code",
   "execution_count": null,
   "metadata": {
    "collapsed": false
   },
   "outputs": [],
   "source": [
    "# this worked ... I'm just surprised.\n",
    "boms.to_csv(saveSheet, index=False)\n"
   ]
  },
  {
   "cell_type": "code",
   "execution_count": null,
   "metadata": {
    "collapsed": true
   },
   "outputs": [],
   "source": []
  },
  {
   "cell_type": "code",
   "execution_count": null,
   "metadata": {
    "collapsed": true
   },
   "outputs": [],
   "source": []
  },
  {
   "cell_type": "code",
   "execution_count": null,
   "metadata": {
    "collapsed": true
   },
   "outputs": [],
   "source": []
  },
  {
   "cell_type": "code",
   "execution_count": null,
   "metadata": {
    "collapsed": false
   },
   "outputs": [],
   "source": [
    "# This is an example of the SQL being used to get reference data.  This needs to be hand updated with labor\n",
    "# estimates before finishing this script\n",
    "\"\"\"\n",
    "SELECT PART.NUM as \"Part\",\n",
    "        BOM.NUM as \"BOM\",\n",
    "        CSMAKEBUY.INFO as \"MAKEBUY\",\n",
    "        CSPRODCENTER.INFO as \"Production Center\",\n",
    "        CSKITSETUP.INFO as \"Kit Setup\",\n",
    "        CSKITMULT.INFO as \"Kit Mult\",\n",
    "        CSASSYMULT.INFO as \"Assy Mult\",\n",
    "        CSTESTMULT.INFO as \"Test Mult\",\n",
    "        CSPACKMULT.INFO as \"Pack Mult\",\n",
    "        CSMACH1.INFO as \"Machine 1\",\n",
    "        CSMACH1SETUP.INFO as \"Machine 1 Setup\",\n",
    "        CSMACH1MULT.INFO as \"Machine 1 Mult\",\n",
    "        CSMACH2.INFO as \"Machine 2\",\n",
    "        CSMACH2SETUP.INFO as \"Machine 2 Setup\",\n",
    "        CSMACH2MULT.INFO as \"Machine 2 Mult\"\n",
    "\n",
    "FROM PART\n",
    "        left join BOM on PART.DEFAULTBOMID = BOM.ID\n",
    "        left join (SELECT *\n",
    "                    FROM CUSTOMSET\n",
    "                    WHERE CUSTOMSET.CUSTOMFIELDID = 64)\n",
    "            as CSMAKEBUY on PART.ID = CSMAKEBUY.RECORDID\n",
    "        left join (SELECT *\n",
    "                    FROM CUSTOMSET\n",
    "                    WHERE CUSTOMSET.CUSTOMFIELDID = 111)\n",
    "            as CSPRODCENTER on BOM.ID = CSPRODCENTER.RECORDID\n",
    "        left join (SELECT *\n",
    "                    FROM CUSTOMDECIMAL\n",
    "                    WHERE CUSTOMDECIMAL.CUSTOMFIELDID = 45)\n",
    "            as CSKITSETUP on BOM.ID = CSKITSETUP.RECORDID\n",
    "        left join (SELECT *\n",
    "                    FROM CUSTOMDECIMAL\n",
    "                    WHERE CUSTOMDECIMAL.CUSTOMFIELDID = 46)\n",
    "            as CSKITMULT on BOM.ID = CSKITMULT.RECORDID\n",
    "        left join (SELECT *\n",
    "                    FROM CUSTOMDECIMAL\n",
    "                    WHERE CUSTOMDECIMAL.CUSTOMFIELDID = 102)\n",
    "            as CSASSYMULT on BOM.ID = CSASSYMULT.RECORDID\n",
    "        left join (SELECT *\n",
    "                    FROM CUSTOMDECIMAL\n",
    "                    WHERE CUSTOMDECIMAL.CUSTOMFIELDID = 47)\n",
    "            as CSTESTMULT on BOM.ID = CSTESTMULT.RECORDID\n",
    "        left join (SELECT *\n",
    "                    FROM CUSTOMDECIMAL\n",
    "                    WHERE CUSTOMDECIMAL.CUSTOMFIELDID = 48)\n",
    "            as CSPACKMULT on BOM.ID = CSPACKMULT.RECORDID\n",
    "        left join (SELECT *\n",
    "                    FROM CUSTOMSET\n",
    "                    WHERE CUSTOMSET.CUSTOMFIELDID = 104)\n",
    "            as CSMACH1 on BOM.ID = CSMACH1.RECORDID\n",
    "        left join (SELECT *\n",
    "                    FROM CUSTOMDECIMAL\n",
    "                    WHERE CUSTOMDECIMAL.CUSTOMFIELDID = 105)\n",
    "            as CSMACH1SETUP on BOM.ID = CSMACH1SETUP.RECORDID\n",
    "        left join (SELECT *\n",
    "                    FROM CUSTOMDECIMAL\n",
    "                    WHERE CUSTOMDECIMAL.CUSTOMFIELDID = 108)\n",
    "            as CSMACH1MULT on BOM.ID = CSMACH1MULT.RECORDID\n",
    "        left join (SELECT *\n",
    "                    FROM CUSTOMSET\n",
    "                    WHERE CUSTOMSET.CUSTOMFIELDID = 106)\n",
    "            as CSMACH2 on BOM.ID = CSMACH2.RECORDID\n",
    "        left join (SELECT *\n",
    "                    FROM CUSTOMDECIMAL\n",
    "                    WHERE CUSTOMDECIMAL.CUSTOMFIELDID = 107)\n",
    "            as CSMACH2SETUP on BOM.ID = CSMACH2SETUP.RECORDID\n",
    "        left join (SELECT *\n",
    "                    FROM CUSTOMDECIMAL\n",
    "                    WHERE CUSTOMDECIMAL.CUSTOMFIELDID = 109)\n",
    "            as CSMACH2MULT on BOM.ID = CSMACH2MULT.RECORDID\n",
    "\n",
    "\n",
    "WHERE CSMAKEBUY.INFO = \"Make\"\n",
    "        and BOM.ACTIVEFLAG = true\n",
    "                    \n",
    "\"\"\""
   ]
  },
  {
   "cell_type": "code",
   "execution_count": null,
   "metadata": {
    "collapsed": true
   },
   "outputs": [],
   "source": []
  },
  {
   "cell_type": "code",
   "execution_count": null,
   "metadata": {
    "collapsed": false
   },
   "outputs": [],
   "source": []
  },
  {
   "cell_type": "code",
   "execution_count": null,
   "metadata": {
    "collapsed": false
   },
   "outputs": [],
   "source": [
    "bomList = pd.read_clipboard()"
   ]
  },
  {
   "cell_type": "code",
   "execution_count": null,
   "metadata": {
    "collapsed": true
   },
   "outputs": [],
   "source": [
    "# trying to figure out where the utf errors are.  here we go ..."
   ]
  },
  {
   "cell_type": "code",
   "execution_count": null,
   "metadata": {
    "collapsed": true
   },
   "outputs": [],
   "source": [
    "import sys"
   ]
  },
  {
   "cell_type": "code",
   "execution_count": null,
   "metadata": {
    "collapsed": true
   },
   "outputs": [],
   "source": [
    "sys.path.insert(0, 'Z:\\Python projects\\FishbowlAPITestProject')\n",
    "import connecttest"
   ]
  },
  {
   "cell_type": "code",
   "execution_count": null,
   "metadata": {
    "collapsed": false,
    "scrolled": true
   },
   "outputs": [],
   "source": [
    "for each in range(380, len(bomList['BOM'])):\n",
    "    #print(each)\n",
    "    bommynum = bomList['BOM'].iat[each]\n",
    "    print(bommynum)\n",
    "    query = '''SELECT BOM.NUM as \"BOM\",\n",
    "        BOMITEMPARTS.NUM as \"ItemPart\",\n",
    "        BOMITEM.DESCRIPTION as \"ItemDesc\",\n",
    "        BOM.DESCRIPTION as \"Description\",\n",
    "        BOM.NOTE as \"Note\",\n",
    "        CUSTOMLISTITEM.NAME as \"Type\",\n",
    "        BOMAUTOCREATETYPE.NAME as \"AutoCreateType\",\n",
    "        CSPRODCENTER.INFO as \"Production Center\",\n",
    "        CSKITSETUP.INFO as \"Kit Setup\",\n",
    "        CSKITMULT.INFO as \"Kit Mult\",\n",
    "        CSASSYMULT.INFO as \"Assy Mult\",\n",
    "        CSTESTMULT.INFO as \"Test Mult\",\n",
    "        CSPACKMULT.INFO as \"Pack Mult\",\n",
    "        CSMACH1.INFO as \"Machine 1\",\n",
    "        CSMACH1SETUP.INFO as \"Machine 1 Setup\",\n",
    "        CSMACH1MULT.INFO as \"Machine 1 Mult\",\n",
    "        CSMACH2.INFO as \"Machine 2\",\n",
    "        CSMACH2SETUP.INFO as \"Machine 2 Setup\",\n",
    "        CSMACH2MULT.INFO as \"Machine 2 Mult\"\n",
    "\n",
    "-- FROM PART\n",
    "--        left join BOM on PART.DEFAULTBOMID = BOM.ID\n",
    "FROM BOM\n",
    "        left join (SELECT *\n",
    "                    FROM CUSTOMSET\n",
    "                    WHERE CUSTOMSET.CUSTOMFIELDID = 111)\n",
    "            as CSPRODCENTER on BOM.ID = CSPRODCENTER.RECORDID\n",
    "        left join (SELECT *\n",
    "                    FROM CUSTOMDECIMAL\n",
    "                    WHERE CUSTOMDECIMAL.CUSTOMFIELDID = 45)\n",
    "            as CSKITSETUP on BOM.ID = CSKITSETUP.RECORDID\n",
    "        left join (SELECT *\n",
    "                    FROM CUSTOMDECIMAL\n",
    "                    WHERE CUSTOMDECIMAL.CUSTOMFIELDID = 46)\n",
    "            as CSKITMULT on BOM.ID = CSKITMULT.RECORDID\n",
    "        left join (SELECT *\n",
    "                    FROM CUSTOMDECIMAL\n",
    "                    WHERE CUSTOMDECIMAL.CUSTOMFIELDID = 102)\n",
    "            as CSASSYMULT on BOM.ID = CSASSYMULT.RECORDID\n",
    "        left join (SELECT *\n",
    "                    FROM CUSTOMDECIMAL\n",
    "                    WHERE CUSTOMDECIMAL.CUSTOMFIELDID = 47)\n",
    "            as CSTESTMULT on BOM.ID = CSTESTMULT.RECORDID\n",
    "        left join (SELECT *\n",
    "                    FROM CUSTOMDECIMAL\n",
    "                    WHERE CUSTOMDECIMAL.CUSTOMFIELDID = 48)\n",
    "            as CSPACKMULT on BOM.ID = CSPACKMULT.RECORDID\n",
    "        left join (SELECT *\n",
    "                    FROM CUSTOMSET\n",
    "                    WHERE CUSTOMSET.CUSTOMFIELDID = 104)\n",
    "            as CSMACH1 on BOM.ID = CSMACH1.RECORDID\n",
    "        left join (SELECT *\n",
    "                    FROM CUSTOMDECIMAL\n",
    "                    WHERE CUSTOMDECIMAL.CUSTOMFIELDID = 105)\n",
    "            as CSMACH1SETUP on BOM.ID = CSMACH1SETUP.RECORDID\n",
    "        left join (SELECT *\n",
    "                    FROM CUSTOMDECIMAL\n",
    "                    WHERE CUSTOMDECIMAL.CUSTOMFIELDID = 108)\n",
    "            as CSMACH1MULT on BOM.ID = CSMACH1MULT.RECORDID\n",
    "        left join (SELECT *\n",
    "                    FROM CUSTOMSET\n",
    "                    WHERE CUSTOMSET.CUSTOMFIELDID = 106)\n",
    "            as CSMACH2 on BOM.ID = CSMACH2.RECORDID\n",
    "        left join (SELECT *\n",
    "                    FROM CUSTOMDECIMAL\n",
    "                    WHERE CUSTOMDECIMAL.CUSTOMFIELDID = 107)\n",
    "            as CSMACH2SETUP on BOM.ID = CSMACH2SETUP.RECORDID\n",
    "        left join (SELECT *\n",
    "                    FROM CUSTOMDECIMAL\n",
    "                    WHERE CUSTOMDECIMAL.CUSTOMFIELDID = 109)\n",
    "            as CSMACH2MULT on BOM.ID = CSMACH2MULT.RECORDID\n",
    "        left join CUSTOMLISTITEM on BOM.TYPEID = CUSTOMLISTITEM.ID\n",
    "        left join BOMAUTOCREATETYPE on BOM.AUTOCREATETYPEID = BOMAUTOCREATETYPE.ID\n",
    "        left join BOMITEM on BOM.ID = BOMITEM.BOMID\n",
    "        left join (SELECT PART.ID,\n",
    "                          PART.NUM\n",
    "                    FROM PART)\n",
    "            as BOMITEMPARTS on BOMITEM.PARTID = BOMITEMPARTS.ID\n",
    "\n",
    "\n",
    "WHERE -- BOM.ACTIVEFLAG = true\n",
    "        BOM.NUM = \"%s\"''' % bommynum\n",
    "    myresults = connecttest.create_connection_second_option(query)\n",
    "    myexcel = connecttest.makeexcelsheet(myresults)\n",
    "    connecttest.save_workbook(myexcel, csvDir, 'holdExcel.xlsx')\n",
    "    excel = pd.read_excel(os.path.join(csvDir, 'holdExcel.xlsx'))\n",
    "    if len(excel) == 0:\n",
    "        print('''\n",
    "        OOOOOOOOOOOOO\n",
    "        OOOOOOOOOOOOOOOOOOOOOOOOOOOOOOOOOOOOOOOOOOOOOOOOOOOOOOOOOOOOOOOOOOOOOOOOOOOOO\n",
    "        OOOOOOOOOOOOOOOOOOOOOOOOOOOOOOOOOOOOOOOOOOOOOOOOOOOOOOOOOOOOOOOO\n",
    "        ooooooooooooooooooooooooooooooooooooooooooooooo\n",
    "        OOOOOOOOOOOOOOOOOOOOOOOOOOOOOOOOOOOOOOOOOOOOOOOOOOOOOOOOOOOOO\n",
    "        OOOOOOOOOOOOOOOOOOOOOOOOOOOOOOOOOOOOOOOOOOOOOOOOOOOOOOOOOOOOOOOOOOOOOOOOO''')\n",
    "    excel.to_csv(os.path.join(csvDir, 'holdCSV.csv'), index=False)\n",
    "    csv = pd.read_csv(os.path.join(csvDir, 'holdCSV.csv'))"
   ]
  },
  {
   "cell_type": "code",
   "execution_count": null,
   "metadata": {
    "collapsed": true
   },
   "outputs": [],
   "source": []
  }
 ],
 "metadata": {
  "kernelspec": {
   "display_name": "Python [Root]",
   "language": "python",
   "name": "Python [Root]"
  },
  "language_info": {
   "codemirror_mode": {
    "name": "ipython",
    "version": 3
   },
   "file_extension": ".py",
   "mimetype": "text/x-python",
   "name": "python",
   "nbconvert_exporter": "python",
   "pygments_lexer": "ipython3",
   "version": "3.5.2"
  }
 },
 "nbformat": 4,
 "nbformat_minor": 0
}
